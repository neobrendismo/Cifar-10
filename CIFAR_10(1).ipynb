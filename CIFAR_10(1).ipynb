{
  "nbformat": 4,
  "nbformat_minor": 0,
  "metadata": {
    "colab": {
      "provenance": [],
      "toc_visible": true,
      "collapsed_sections": []
    },
    "kernelspec": {
      "name": "python3",
      "display_name": "Python 3"
    },
    "language_info": {
      "name": "python"
    },
    "accelerator": "GPU",
    "gpuClass": "standard"
  },
  "cells": [
    {
      "cell_type": "markdown",
      "source": [
        "# Escola Politécnica de Pernambuco ‐ POLI / UPE Pós-Graduação lato sensu\n",
        "\n",
        "**Especialização em Ciência de Dados e Analytics**\n",
        "\n",
        "**Disciplina**: Deep Learning\n",
        "\n",
        "**Docente**: Bruno Fernandes\n",
        "\n",
        "**Alunos**: Brenda Barros,\n",
        "Diego Filgueira,\n",
        "Frederico Bezerra,\n",
        "José Matheus, \n",
        "Wlademir Albuquerque\n",
        "\n",
        "\n",
        "# **Importando Data**"
      ],
      "metadata": {
        "id": "e3BfTwGZX0ZX"
      }
    },
    {
      "cell_type": "code",
      "execution_count": 8,
      "metadata": {
        "colab": {
          "base_uri": "https://localhost:8080/"
        },
        "id": "6ZI1UvKj9K7p",
        "outputId": "13aeab3a-3415-4049-87e3-a148443a5897"
      },
      "outputs": [
        {
          "output_type": "stream",
          "name": "stdout",
          "text": [
            "Downloading data from https://www.cs.toronto.edu/~kriz/cifar-10-python.tar.gz\n",
            "170498071/170498071 [==============================] - 14s 0us/step\n",
            "Shape of x_train is (50000, 32, 32, 3)\n",
            "Shape of x_test is (10000, 32, 32, 3)\n",
            "Shape of y_train is (50000, 1)\n",
            "Shape of y_test is (10000, 1)\n"
          ]
        }
      ],
      "source": [
        "from tensorflow.keras.datasets import cifar10\n",
        "\n",
        "(x_train, y_train), (x_test, y_test)=cifar10.load_data()\n",
        "\n",
        "print('Shape of x_train is {}'.format(x_train.shape))\n",
        "print('Shape of x_test is {}'.format(x_test.shape)) \n",
        "print('Shape of y_train is {}'.format(y_train.shape))\n",
        "print('Shape of y_test is {}'.format(y_test.shape))"
      ]
    },
    {
      "cell_type": "markdown",
      "source": [
        "# **Normalizando e  encoding**"
      ],
      "metadata": {
        "id": "ELBS_paxYBGr"
      }
    },
    {
      "cell_type": "code",
      "source": [
        "from tensorflow.keras.utils import to_categorical\n",
        "\n",
        "# Normalizing\n",
        "x_train=x_train/255\n",
        "x_test=x_test/255\n",
        "\n",
        "#One hot encoding\n",
        "y_train_cat=to_categorical(y_train,10)\n",
        "y_test_cat=to_categorical(y_test,10)"
      ],
      "metadata": {
        "id": "DNZjRu7W9VQj"
      },
      "execution_count": 9,
      "outputs": []
    },
    {
      "cell_type": "code",
      "source": [
        "from tensorflow.keras.models import Sequential\n",
        "from tensorflow.keras.layers import Conv2D,MaxPool2D,Dense,Flatten,Dropout,Input, AveragePooling2D, Activation,Conv2D, MaxPooling2D, BatchNormalization,Concatenate\n",
        "from tensorflow.keras.callbacks import EarlyStopping, TensorBoard\n",
        "from tensorflow.keras import regularizers, optimizers\n",
        "from tensorflow.keras.preprocessing.image import ImageDataGenerator"
      ],
      "metadata": {
        "id": "JJ6H1ZlaGoEs"
      },
      "execution_count": 10,
      "outputs": []
    },
    {
      "cell_type": "markdown",
      "source": [
        "# **Modelo Base**"
      ],
      "metadata": {
        "id": "ZqgoosrKYWiH"
      }
    },
    {
      "cell_type": "code",
      "source": [
        "model1=Sequential()\n",
        "model1.add(Conv2D(filters=32,kernel_size=(4,4),input_shape=(32,32,3),activation='relu'))\n",
        "model1.add(MaxPool2D(pool_size=(2,2)))\n",
        "model1.add(Conv2D(filters=32,kernel_size=(4,4),input_shape=(32,32,3),activation='relu'))\n",
        "model1.add(MaxPool2D(pool_size=(2,2)))\n",
        "model1.add(Flatten())\n",
        "model1.add(Dense(256,activation='relu'))\n",
        "model1.add(Dense(10,activation='softmax'))\n",
        "model1.compile(loss='categorical_crossentropy',optimizer='adam',metrics=['accuracy'])"
      ],
      "metadata": {
        "id": "TQllO2fIGt05"
      },
      "execution_count": 11,
      "outputs": []
    },
    {
      "cell_type": "code",
      "source": [
        "model1.summary()"
      ],
      "metadata": {
        "colab": {
          "base_uri": "https://localhost:8080/"
        },
        "id": "uCHRLughG3WV",
        "outputId": "2f08b759-e61d-4d5a-b9e1-1c01eed51898"
      },
      "execution_count": 12,
      "outputs": [
        {
          "output_type": "stream",
          "name": "stdout",
          "text": [
            "Model: \"sequential\"\n",
            "_________________________________________________________________\n",
            " Layer (type)                Output Shape              Param #   \n",
            "=================================================================\n",
            " conv2d (Conv2D)             (None, 29, 29, 32)        1568      \n",
            "                                                                 \n",
            " max_pooling2d (MaxPooling2D  (None, 14, 14, 32)       0         \n",
            " )                                                               \n",
            "                                                                 \n",
            " conv2d_1 (Conv2D)           (None, 11, 11, 32)        16416     \n",
            "                                                                 \n",
            " max_pooling2d_1 (MaxPooling  (None, 5, 5, 32)         0         \n",
            " 2D)                                                             \n",
            "                                                                 \n",
            " flatten (Flatten)           (None, 800)               0         \n",
            "                                                                 \n",
            " dense (Dense)               (None, 256)               205056    \n",
            "                                                                 \n",
            " dense_1 (Dense)             (None, 10)                2570      \n",
            "                                                                 \n",
            "=================================================================\n",
            "Total params: 225,610\n",
            "Trainable params: 225,610\n",
            "Non-trainable params: 0\n",
            "_________________________________________________________________\n"
          ]
        }
      ]
    },
    {
      "cell_type": "code",
      "source": [
        "history1=model1.fit(x_train,y_train_cat,epochs=20,validation_data=(x_test,y_test_cat))"
      ],
      "metadata": {
        "colab": {
          "base_uri": "https://localhost:8080/"
        },
        "id": "r31oWbToG6Dt",
        "outputId": "5740be11-8371-442b-c8aa-6635db3bedc9"
      },
      "execution_count": 13,
      "outputs": [
        {
          "output_type": "stream",
          "name": "stdout",
          "text": [
            "Epoch 1/20\n",
            "1563/1563 [==============================] - 16s 5ms/step - loss: 1.5061 - accuracy: 0.4530 - val_loss: 1.2902 - val_accuracy: 0.5401\n",
            "Epoch 2/20\n",
            "1563/1563 [==============================] - 7s 4ms/step - loss: 1.1715 - accuracy: 0.5854 - val_loss: 1.1584 - val_accuracy: 0.5931\n",
            "Epoch 3/20\n",
            "1563/1563 [==============================] - 7s 4ms/step - loss: 1.0322 - accuracy: 0.6394 - val_loss: 1.0880 - val_accuracy: 0.6211\n",
            "Epoch 4/20\n",
            "1563/1563 [==============================] - 8s 5ms/step - loss: 0.9278 - accuracy: 0.6762 - val_loss: 1.0081 - val_accuracy: 0.6505\n",
            "Epoch 5/20\n",
            "1563/1563 [==============================] - 7s 4ms/step - loss: 0.8455 - accuracy: 0.7051 - val_loss: 0.9497 - val_accuracy: 0.6735\n",
            "Epoch 6/20\n",
            "1563/1563 [==============================] - 7s 4ms/step - loss: 0.7698 - accuracy: 0.7313 - val_loss: 1.0479 - val_accuracy: 0.6532\n",
            "Epoch 7/20\n",
            "1563/1563 [==============================] - 7s 5ms/step - loss: 0.7043 - accuracy: 0.7555 - val_loss: 0.9676 - val_accuracy: 0.6753\n",
            "Epoch 8/20\n",
            "1563/1563 [==============================] - 7s 4ms/step - loss: 0.6401 - accuracy: 0.7748 - val_loss: 0.9689 - val_accuracy: 0.6781\n",
            "Epoch 9/20\n",
            "1563/1563 [==============================] - 8s 5ms/step - loss: 0.5822 - accuracy: 0.7954 - val_loss: 1.0290 - val_accuracy: 0.6804\n",
            "Epoch 10/20\n",
            "1563/1563 [==============================] - 7s 5ms/step - loss: 0.5302 - accuracy: 0.8123 - val_loss: 1.0878 - val_accuracy: 0.6606\n",
            "Epoch 11/20\n",
            "1563/1563 [==============================] - 7s 4ms/step - loss: 0.4788 - accuracy: 0.8323 - val_loss: 1.1150 - val_accuracy: 0.6718\n",
            "Epoch 12/20\n",
            "1563/1563 [==============================] - 7s 5ms/step - loss: 0.4335 - accuracy: 0.8468 - val_loss: 1.1517 - val_accuracy: 0.6699\n",
            "Epoch 13/20\n",
            "1563/1563 [==============================] - 7s 5ms/step - loss: 0.3886 - accuracy: 0.8619 - val_loss: 1.2483 - val_accuracy: 0.6658\n",
            "Epoch 14/20\n",
            "1563/1563 [==============================] - 7s 4ms/step - loss: 0.3488 - accuracy: 0.8754 - val_loss: 1.3235 - val_accuracy: 0.6643\n",
            "Epoch 15/20\n",
            "1563/1563 [==============================] - 7s 4ms/step - loss: 0.3081 - accuracy: 0.8896 - val_loss: 1.4539 - val_accuracy: 0.6562\n",
            "Epoch 16/20\n",
            "1563/1563 [==============================] - 7s 4ms/step - loss: 0.2802 - accuracy: 0.9011 - val_loss: 1.5043 - val_accuracy: 0.6646\n",
            "Epoch 17/20\n",
            "1563/1563 [==============================] - 7s 4ms/step - loss: 0.2563 - accuracy: 0.9094 - val_loss: 1.5782 - val_accuracy: 0.6617\n",
            "Epoch 18/20\n",
            "1563/1563 [==============================] - 7s 4ms/step - loss: 0.2319 - accuracy: 0.9176 - val_loss: 1.6796 - val_accuracy: 0.6585\n",
            "Epoch 19/20\n",
            "1563/1563 [==============================] - 7s 4ms/step - loss: 0.2076 - accuracy: 0.9259 - val_loss: 1.7349 - val_accuracy: 0.6621\n",
            "Epoch 20/20\n",
            "1563/1563 [==============================] - 7s 5ms/step - loss: 0.1998 - accuracy: 0.9280 - val_loss: 1.9053 - val_accuracy: 0.6613\n"
          ]
        }
      ]
    },
    {
      "cell_type": "code",
      "source": [
        "evaluation = model1.evaluate(x_test, y_test_cat)\n",
        "print('Test Accuracy: {}'.format(evaluation[1]))"
      ],
      "metadata": {
        "id": "2XleoNSxMgBA",
        "colab": {
          "base_uri": "https://localhost:8080/"
        },
        "outputId": "4226c0ff-530b-48b8-d5fd-dcd23a9c6b3f"
      },
      "execution_count": 14,
      "outputs": [
        {
          "output_type": "stream",
          "name": "stdout",
          "text": [
            "313/313 [==============================] - 1s 3ms/step - loss: 1.9053 - accuracy: 0.6613\n",
            "Test Accuracy: 0.661300003528595\n"
          ]
        }
      ]
    },
    {
      "cell_type": "code",
      "source": [
        "import pandas as pd\n",
        "pd.DataFrame(history1.history).plot()"
      ],
      "metadata": {
        "id": "Zn-h8VDAMkb0",
        "colab": {
          "base_uri": "https://localhost:8080/",
          "height": 282
        },
        "outputId": "be288b89-45ab-4fa3-b0c0-2116e88a9a8c"
      },
      "execution_count": 15,
      "outputs": [
        {
          "output_type": "execute_result",
          "data": {
            "text/plain": [
              "<matplotlib.axes._subplots.AxesSubplot at 0x7f4e30074a50>"
            ]
          },
          "metadata": {},
          "execution_count": 15
        },
        {
          "output_type": "display_data",
          "data": {
            "text/plain": [
              "<Figure size 432x288 with 1 Axes>"
            ],
            "image/png": "[encoded data removed]"
          },
          "metadata": {
            "needs_background": "light"
          }
        }
      ]
    },
    {
      "cell_type": "markdown",
      "source": [
        "#Modelo 2 : add Drop out\n"
      ],
      "metadata": {
        "id": "qtX7kmG1YqcI"
      }
    },
    {
      "cell_type": "code",
      "source": [
        "model2=Sequential()\n",
        "model2.add(Conv2D(filters=32,kernel_size=(4,4),input_shape=(32,32,3),activation='relu'))\n",
        "model2.add(MaxPool2D(pool_size=(2,2)))\n",
        "model2.add(Dropout(0.25)) # Drop 25% of the units from the layer.\n",
        "model2.add(Conv2D(filters=32,kernel_size=(4,4),input_shape=(32,32,3),activation='relu'))\n",
        "model2.add(MaxPool2D(pool_size=(2,2)))\n",
        "model2.add(Dropout(0.25))\n",
        "model2.add(Flatten())\n",
        "model2.add(Dense(256,activation='relu'))\n",
        "model2.add(Dense(10,activation='softmax'))\n",
        "model2.compile(loss='categorical_crossentropy',optimizer='adam',metrics=['accuracy'])\n",
        "# training_steps = train_generator.samples//train_generator.batch_size\n",
        "# validation_steps=test_generator.samples//test_generator.batch_size\n",
        "# model2.fit_generator(train_generator,epochs=100,steps_per_epoch=training_steps,validation_data=test_generator,validation_steps=validation_steps,callbacks=[board])\n",
        "history2=model2.fit(x_train,y_train_cat,epochs=20,validation_data=(x_test,y_test_cat))"
      ],
      "metadata": {
        "id": "6gC7pv-0NKr5",
        "colab": {
          "base_uri": "https://localhost:8080/"
        },
        "outputId": "da31751b-678a-4d63-b693-0fb31355f0c7"
      },
      "execution_count": 16,
      "outputs": [
        {
          "output_type": "stream",
          "name": "stdout",
          "text": [
            "Epoch 1/20\n",
            "1563/1563 [==============================] - 8s 5ms/step - loss: 1.5457 - accuracy: 0.4381 - val_loss: 1.3161 - val_accuracy: 0.5315\n",
            "Epoch 2/20\n",
            "1563/1563 [==============================] - 7s 5ms/step - loss: 1.2563 - accuracy: 0.5533 - val_loss: 1.1958 - val_accuracy: 0.5754\n",
            "Epoch 3/20\n",
            "1563/1563 [==============================] - 7s 4ms/step - loss: 1.1387 - accuracy: 0.5969 - val_loss: 1.0488 - val_accuracy: 0.6320\n",
            "Epoch 4/20\n",
            "1563/1563 [==============================] - 7s 5ms/step - loss: 1.0468 - accuracy: 0.6334 - val_loss: 1.0078 - val_accuracy: 0.6490\n",
            "Epoch 5/20\n",
            "1563/1563 [==============================] - 7s 4ms/step - loss: 0.9794 - accuracy: 0.6558 - val_loss: 0.9520 - val_accuracy: 0.6704\n",
            "Epoch 6/20\n",
            "1563/1563 [==============================] - 7s 4ms/step - loss: 0.9198 - accuracy: 0.6755 - val_loss: 0.9306 - val_accuracy: 0.6857\n",
            "Epoch 7/20\n",
            "1563/1563 [==============================] - 7s 5ms/step - loss: 0.8773 - accuracy: 0.6912 - val_loss: 0.8976 - val_accuracy: 0.6919\n",
            "Epoch 8/20\n",
            "1563/1563 [==============================] - 7s 5ms/step - loss: 0.8380 - accuracy: 0.7061 - val_loss: 0.8842 - val_accuracy: 0.6902\n",
            "Epoch 9/20\n",
            "1563/1563 [==============================] - 7s 4ms/step - loss: 0.8008 - accuracy: 0.7171 - val_loss: 0.9045 - val_accuracy: 0.6914\n",
            "Epoch 10/20\n",
            "1563/1563 [==============================] - 7s 5ms/step - loss: 0.7801 - accuracy: 0.7284 - val_loss: 0.9038 - val_accuracy: 0.6896\n",
            "Epoch 11/20\n",
            "1563/1563 [==============================] - 7s 4ms/step - loss: 0.7545 - accuracy: 0.7344 - val_loss: 0.8627 - val_accuracy: 0.7056\n",
            "Epoch 12/20\n",
            "1563/1563 [==============================] - 7s 5ms/step - loss: 0.7238 - accuracy: 0.7426 - val_loss: 0.8870 - val_accuracy: 0.7023\n",
            "Epoch 13/20\n",
            "1563/1563 [==============================] - 7s 5ms/step - loss: 0.7034 - accuracy: 0.7536 - val_loss: 0.8976 - val_accuracy: 0.6985\n",
            "Epoch 14/20\n",
            "1563/1563 [==============================] - 7s 4ms/step - loss: 0.6856 - accuracy: 0.7577 - val_loss: 0.9035 - val_accuracy: 0.6981\n",
            "Epoch 15/20\n",
            "1563/1563 [==============================] - 8s 5ms/step - loss: 0.6701 - accuracy: 0.7635 - val_loss: 0.9164 - val_accuracy: 0.6900\n",
            "Epoch 16/20\n",
            "1563/1563 [==============================] - 8s 5ms/step - loss: 0.6475 - accuracy: 0.7716 - val_loss: 0.8840 - val_accuracy: 0.7053\n",
            "Epoch 17/20\n",
            "1563/1563 [==============================] - 8s 5ms/step - loss: 0.6337 - accuracy: 0.7756 - val_loss: 0.9008 - val_accuracy: 0.7099\n",
            "Epoch 18/20\n",
            "1563/1563 [==============================] - 7s 5ms/step - loss: 0.6244 - accuracy: 0.7803 - val_loss: 0.9047 - val_accuracy: 0.7047\n",
            "Epoch 19/20\n",
            "1563/1563 [==============================] - 7s 4ms/step - loss: 0.6080 - accuracy: 0.7851 - val_loss: 0.8762 - val_accuracy: 0.7142\n",
            "Epoch 20/20\n",
            "1563/1563 [==============================] - 7s 5ms/step - loss: 0.6017 - accuracy: 0.7871 - val_loss: 0.9215 - val_accuracy: 0.7065\n"
          ]
        }
      ]
    },
    {
      "cell_type": "code",
      "source": [
        "evaluation = model2.evaluate(x_test, y_test_cat)\n",
        "print('Test Accuracy: {}'.format(evaluation[1]))"
      ],
      "metadata": {
        "id": "RXhzaXigTbNU",
        "colab": {
          "base_uri": "https://localhost:8080/"
        },
        "outputId": "4b4d06ce-b219-4515-d3dd-393700562f3a"
      },
      "execution_count": 17,
      "outputs": [
        {
          "output_type": "stream",
          "name": "stdout",
          "text": [
            "313/313 [==============================] - 1s 3ms/step - loss: 0.9215 - accuracy: 0.7065\n",
            "Test Accuracy: 0.7064999938011169\n"
          ]
        }
      ]
    },
    {
      "cell_type": "code",
      "source": [
        "pd.DataFrame(history2.history).plot()"
      ],
      "metadata": {
        "id": "bqpczZ7ETiK0",
        "colab": {
          "base_uri": "https://localhost:8080/",
          "height": 286
        },
        "outputId": "f96977cb-2107-4a8a-dd1e-29aebffc5dea"
      },
      "execution_count": 18,
      "outputs": [
        {
          "output_type": "execute_result",
          "data": {
            "text/plain": [
              "<matplotlib.axes._subplots.AxesSubplot at 0x7f4e1a12da90>"
            ]
          },
          "metadata": {},
          "execution_count": 18
        },
        {
          "output_type": "display_data",
          "data": {
            "text/plain": [
              "<Figure size 432x288 with 1 Axes>"
            ],
            "image/png": "[encoded data removed]"
          },
          "metadata": {
            "needs_background": "light"
          }
        }
      ]
    },
    {
      "cell_type": "markdown",
      "source": [
        "\n",
        "#Modelo 3 : Adicionar mais camadas com mais filtros.\n"
      ],
      "metadata": {
        "id": "UxD2G2FPZCby"
      }
    },
    {
      "cell_type": "code",
      "source": [
        "model3 = Sequential()\n",
        "model3.add(Conv2D(filters = 64, kernel_size = (3,3), activation = 'relu', input_shape = (32,32,3)))\n",
        "model3.add(Conv2D(filters = 64, kernel_size = (3,3), activation = 'relu'))\n",
        "model3.add(MaxPool2D(2,2))\n",
        "model3.add(Dropout(0.4))\n",
        "\n",
        "\n",
        "model3.add(Conv2D(filters = 128, kernel_size = (3,3), activation = 'relu'))\n",
        "model3.add(Conv2D(filters = 128, kernel_size = (3,3), activation = 'relu'))\n",
        "model3.add(MaxPool2D(2,2))\n",
        "model3.add(Dropout(0.4))\n",
        "\n",
        "model3.add(Flatten())\n",
        "\n",
        "model3.add(Dense(units = 1024, activation = 'relu'))\n",
        "\n",
        "model3.add(Dense(units = 1024, activation = 'relu'))\n",
        "\n",
        "model3.add(Dense(units = 10, activation = 'softmax'))\n",
        "model3.compile(loss = 'categorical_crossentropy', optimizer = 'adam', metrics = ['accuracy'])\n",
        "history3=model3.fit(x_train,y_train_cat,epochs=50,validation_data=(x_test,y_test_cat)) "
      ],
      "metadata": {
        "id": "kkt-c4v9TmyY",
        "colab": {
          "base_uri": "https://localhost:8080/"
        },
        "outputId": "3e5db4e2-cefc-4c71-8dc5-917f1043a09d"
      },
      "execution_count": 19,
      "outputs": [
        {
          "output_type": "stream",
          "name": "stdout",
          "text": [
            "Epoch 1/50\n",
            "1563/1563 [==============================] - 14s 8ms/step - loss: 1.5786 - accuracy: 0.4168 - val_loss: 1.2441 - val_accuracy: 0.5564\n",
            "Epoch 2/50\n",
            "1563/1563 [==============================] - 13s 8ms/step - loss: 1.1956 - accuracy: 0.5762 - val_loss: 1.0317 - val_accuracy: 0.6334\n",
            "Epoch 3/50\n",
            "1563/1563 [==============================] - 12s 8ms/step - loss: 1.0324 - accuracy: 0.6350 - val_loss: 0.9862 - val_accuracy: 0.6488\n",
            "Epoch 4/50\n",
            "1563/1563 [==============================] - 12s 8ms/step - loss: 0.9142 - accuracy: 0.6770 - val_loss: 0.8338 - val_accuracy: 0.7048\n",
            "Epoch 5/50\n",
            "1563/1563 [==============================] - 12s 8ms/step - loss: 0.8369 - accuracy: 0.7052 - val_loss: 0.8122 - val_accuracy: 0.7201\n",
            "Epoch 6/50\n",
            "1563/1563 [==============================] - 12s 8ms/step - loss: 0.7789 - accuracy: 0.7269 - val_loss: 0.8015 - val_accuracy: 0.7242\n",
            "Epoch 7/50\n",
            "1563/1563 [==============================] - 12s 8ms/step - loss: 0.7304 - accuracy: 0.7433 - val_loss: 0.7367 - val_accuracy: 0.7432\n",
            "Epoch 8/50\n",
            "1563/1563 [==============================] - 12s 8ms/step - loss: 0.6826 - accuracy: 0.7591 - val_loss: 0.7600 - val_accuracy: 0.7479\n",
            "Epoch 9/50\n",
            "1563/1563 [==============================] - 12s 8ms/step - loss: 0.6451 - accuracy: 0.7725 - val_loss: 0.7318 - val_accuracy: 0.7536\n",
            "Epoch 10/50\n",
            "1563/1563 [==============================] - 13s 8ms/step - loss: 0.6150 - accuracy: 0.7835 - val_loss: 0.7465 - val_accuracy: 0.7548\n",
            "Epoch 11/50\n",
            "1563/1563 [==============================] - 12s 8ms/step - loss: 0.5830 - accuracy: 0.7935 - val_loss: 0.7675 - val_accuracy: 0.7508\n",
            "Epoch 12/50\n",
            "1563/1563 [==============================] - 12s 8ms/step - loss: 0.5498 - accuracy: 0.8064 - val_loss: 0.7221 - val_accuracy: 0.7651\n",
            "Epoch 13/50\n",
            "1563/1563 [==============================] - 13s 8ms/step - loss: 0.5279 - accuracy: 0.8128 - val_loss: 0.7702 - val_accuracy: 0.7631\n",
            "Epoch 14/50\n",
            "1563/1563 [==============================] - 13s 8ms/step - loss: 0.5076 - accuracy: 0.8223 - val_loss: 0.7447 - val_accuracy: 0.7694\n",
            "Epoch 15/50\n",
            "1563/1563 [==============================] - 13s 8ms/step - loss: 0.4879 - accuracy: 0.8281 - val_loss: 0.7291 - val_accuracy: 0.7667\n",
            "Epoch 16/50\n",
            "1563/1563 [==============================] - 13s 8ms/step - loss: 0.4754 - accuracy: 0.8303 - val_loss: 0.7681 - val_accuracy: 0.7616\n",
            "Epoch 17/50\n",
            "1563/1563 [==============================] - 12s 8ms/step - loss: 0.4470 - accuracy: 0.8435 - val_loss: 0.8082 - val_accuracy: 0.7649\n",
            "Epoch 18/50\n",
            "1563/1563 [==============================] - 12s 8ms/step - loss: 0.4362 - accuracy: 0.8476 - val_loss: 0.7865 - val_accuracy: 0.7643\n",
            "Epoch 19/50\n",
            "1563/1563 [==============================] - 12s 8ms/step - loss: 0.4205 - accuracy: 0.8516 - val_loss: 0.7926 - val_accuracy: 0.7707\n",
            "Epoch 20/50\n",
            "1563/1563 [==============================] - 13s 8ms/step - loss: 0.4048 - accuracy: 0.8592 - val_loss: 0.8186 - val_accuracy: 0.7618\n",
            "Epoch 21/50\n",
            "1563/1563 [==============================] - 13s 8ms/step - loss: 0.3981 - accuracy: 0.8618 - val_loss: 0.7894 - val_accuracy: 0.7677\n",
            "Epoch 22/50\n",
            "1563/1563 [==============================] - 12s 8ms/step - loss: 0.3761 - accuracy: 0.8702 - val_loss: 0.8011 - val_accuracy: 0.7616\n",
            "Epoch 23/50\n",
            "1563/1563 [==============================] - 12s 8ms/step - loss: 0.3719 - accuracy: 0.8719 - val_loss: 0.8046 - val_accuracy: 0.7674\n",
            "Epoch 24/50\n",
            "1563/1563 [==============================] - 12s 8ms/step - loss: 0.3616 - accuracy: 0.8759 - val_loss: 0.8331 - val_accuracy: 0.7565\n",
            "Epoch 25/50\n",
            "1563/1563 [==============================] - 12s 8ms/step - loss: 0.3522 - accuracy: 0.8790 - val_loss: 0.8615 - val_accuracy: 0.7692\n",
            "Epoch 26/50\n",
            "1563/1563 [==============================] - 13s 8ms/step - loss: 0.3468 - accuracy: 0.8800 - val_loss: 0.9016 - val_accuracy: 0.7580\n",
            "Epoch 27/50\n",
            "1563/1563 [==============================] - 12s 8ms/step - loss: 0.3421 - accuracy: 0.8830 - val_loss: 0.8316 - val_accuracy: 0.7666\n",
            "Epoch 28/50\n",
            "1563/1563 [==============================] - 12s 8ms/step - loss: 0.3285 - accuracy: 0.8860 - val_loss: 0.8760 - val_accuracy: 0.7597\n",
            "Epoch 29/50\n",
            "1563/1563 [==============================] - 12s 8ms/step - loss: 0.3287 - accuracy: 0.8893 - val_loss: 0.9398 - val_accuracy: 0.7554\n",
            "Epoch 30/50\n",
            "1563/1563 [==============================] - 12s 8ms/step - loss: 0.3142 - accuracy: 0.8937 - val_loss: 0.8915 - val_accuracy: 0.7683\n",
            "Epoch 31/50\n",
            "1563/1563 [==============================] - 13s 8ms/step - loss: 0.3229 - accuracy: 0.8902 - val_loss: 0.9091 - val_accuracy: 0.7555\n",
            "Epoch 32/50\n",
            "1563/1563 [==============================] - 12s 8ms/step - loss: 0.3206 - accuracy: 0.8925 - val_loss: 0.8787 - val_accuracy: 0.7698\n",
            "Epoch 33/50\n",
            "1563/1563 [==============================] - 12s 8ms/step - loss: 0.3064 - accuracy: 0.8975 - val_loss: 0.8935 - val_accuracy: 0.7702\n",
            "Epoch 34/50\n",
            "1563/1563 [==============================] - 12s 8ms/step - loss: 0.2998 - accuracy: 0.8997 - val_loss: 0.8668 - val_accuracy: 0.7695\n",
            "Epoch 35/50\n",
            "1563/1563 [==============================] - 12s 8ms/step - loss: 0.2952 - accuracy: 0.9026 - val_loss: 0.8934 - val_accuracy: 0.7537\n",
            "Epoch 36/50\n",
            "1563/1563 [==============================] - 13s 8ms/step - loss: 0.2886 - accuracy: 0.9022 - val_loss: 0.9177 - val_accuracy: 0.7618\n",
            "Epoch 37/50\n",
            "1563/1563 [==============================] - 13s 8ms/step - loss: 0.2847 - accuracy: 0.9048 - val_loss: 0.9549 - val_accuracy: 0.7634\n",
            "Epoch 38/50\n",
            "1563/1563 [==============================] - 12s 8ms/step - loss: 0.2795 - accuracy: 0.9073 - val_loss: 0.9019 - val_accuracy: 0.7637\n",
            "Epoch 39/50\n",
            "1563/1563 [==============================] - 12s 8ms/step - loss: 0.2864 - accuracy: 0.9047 - val_loss: 0.8987 - val_accuracy: 0.7677\n",
            "Epoch 40/50\n",
            "1563/1563 [==============================] - 13s 8ms/step - loss: 0.2758 - accuracy: 0.9097 - val_loss: 1.0118 - val_accuracy: 0.7539\n",
            "Epoch 41/50\n",
            "1563/1563 [==============================] - 12s 8ms/step - loss: 0.2746 - accuracy: 0.9095 - val_loss: 0.9297 - val_accuracy: 0.7673\n",
            "Epoch 42/50\n",
            "1563/1563 [==============================] - 12s 8ms/step - loss: 0.2626 - accuracy: 0.9127 - val_loss: 0.9133 - val_accuracy: 0.7757\n",
            "Epoch 43/50\n",
            "1563/1563 [==============================] - 12s 8ms/step - loss: 0.2625 - accuracy: 0.9140 - val_loss: 0.9682 - val_accuracy: 0.7597\n",
            "Epoch 44/50\n",
            "1563/1563 [==============================] - 12s 8ms/step - loss: 0.2627 - accuracy: 0.9145 - val_loss: 0.9575 - val_accuracy: 0.7666\n",
            "Epoch 45/50\n",
            "1563/1563 [==============================] - 12s 8ms/step - loss: 0.2661 - accuracy: 0.9137 - val_loss: 0.9047 - val_accuracy: 0.7730\n",
            "Epoch 46/50\n",
            "1563/1563 [==============================] - 12s 8ms/step - loss: 0.2544 - accuracy: 0.9171 - val_loss: 0.9989 - val_accuracy: 0.7595\n",
            "Epoch 47/50\n",
            "1563/1563 [==============================] - 12s 8ms/step - loss: 0.2545 - accuracy: 0.9185 - val_loss: 0.9950 - val_accuracy: 0.7697\n",
            "Epoch 48/50\n",
            "1563/1563 [==============================] - 12s 8ms/step - loss: 0.2425 - accuracy: 0.9221 - val_loss: 0.8919 - val_accuracy: 0.7739\n",
            "Epoch 49/50\n",
            "1563/1563 [==============================] - 13s 8ms/step - loss: 0.2441 - accuracy: 0.9212 - val_loss: 0.9085 - val_accuracy: 0.7739\n",
            "Epoch 50/50\n",
            "1563/1563 [==============================] - 13s 8ms/step - loss: 0.2504 - accuracy: 0.9199 - val_loss: 0.9436 - val_accuracy: 0.7723\n"
          ]
        }
      ]
    },
    {
      "cell_type": "code",
      "source": [
        "pd.DataFrame(history3.history).plot()"
      ],
      "metadata": {
        "id": "mrk-_MX8cCNO",
        "colab": {
          "base_uri": "https://localhost:8080/",
          "height": 282
        },
        "outputId": "5c013adc-6ecc-4b2e-d5e1-66fa5bc7f861"
      },
      "execution_count": 20,
      "outputs": [
        {
          "output_type": "execute_result",
          "data": {
            "text/plain": [
              "<matplotlib.axes._subplots.AxesSubplot at 0x7f4e9672a110>"
            ]
          },
          "metadata": {},
          "execution_count": 20
        },
        {
          "output_type": "display_data",
          "data": {
            "text/plain": [
              "<Figure size 432x288 with 1 Axes>"
            ],
            "image/png": "[encoded data removed]"
          },
          "metadata": {
            "needs_background": "light"
          }
        }
      ]
    },
    {
      "cell_type": "code",
      "source": [
        "evaluation = model3.evaluate(x_test, y_test_cat)\n",
        "print ('Test Accuracy: {}'.format(evaluation[1]))"
      ],
      "metadata": {
        "id": "YW7JXSfr2fZ1",
        "colab": {
          "base_uri": "https://localhost:8080/"
        },
        "outputId": "4838cfa1-b52f-4248-dde6-e88b565748ab"
      },
      "execution_count": 21,
      "outputs": [
        {
          "output_type": "stream",
          "name": "stdout",
          "text": [
            "313/313 [==============================] - 1s 4ms/step - loss: 0.9436 - accuracy: 0.7723\n",
            "Test Accuracy: 0.7723000049591064\n"
          ]
        }
      ]
    },
    {
      "cell_type": "markdown",
      "source": [
        "# Modelo 4: adicionando mais camadas e filtros com Dropout"
      ],
      "metadata": {
        "id": "W7TYIGRezijH"
      }
    },
    {
      "cell_type": "code",
      "source": [
        "model4 = Sequential()\n",
        "model4.add(Conv2D(32, (3, 3), activation='relu', kernel_initializer='he_uniform', padding='same', input_shape=(32, 32, 3)))\n",
        "model4.add(Conv2D(32, (3, 3), activation='relu', kernel_initializer='he_uniform', padding='same'))\n",
        "model4.add(MaxPool2D((2, 2)))\n",
        "model4.add(Dropout(0.2))\n",
        "model4.add(Conv2D(64, (3, 3), activation='relu', kernel_initializer='he_uniform', padding='same'))\n",
        "model4.add(Conv2D(64, (3, 3), activation='relu', kernel_initializer='he_uniform', padding='same'))\n",
        "model4.add(MaxPool2D((2, 2)))\n",
        "model4.add(Dropout(0.3))\n",
        "model4.add(Conv2D(128, (3, 3), activation='relu', kernel_initializer='he_uniform', padding='same'))\n",
        "model4.add(Conv2D(128, (3, 3), activation='relu', kernel_initializer='he_uniform', padding='same'))\n",
        "model4.add(MaxPool2D((2, 2)))\n",
        "model4.add(Dropout(0.4))\n",
        "model4.add(Flatten())\n",
        "model4.add(Dense(128, activation='relu', kernel_initializer='he_uniform'))\n",
        "model4.add(Dropout(0.5))\n",
        "model4.add(Dense(10, activation='softmax'))\n",
        "# compile model\n",
        "# opt = SGD(lr=0.001, momentum=0.9)\n",
        "model4.compile(optimizer='adam', loss='categorical_crossentropy', metrics=['accuracy'])\n",
        "# model4.fit_generator(train_generator,epochs=100,steps_per_epoch=training_steps,validation_data=test_generator,validation_steps=validation_steps,callbacks=[board])\n",
        "history4=model4.fit(x_train,y_train_cat,epochs=50,validation_data=(x_test,y_test_cat))"
      ],
      "metadata": {
        "id": "KzN7N9GNziF2",
        "colab": {
          "base_uri": "https://localhost:8080/"
        },
        "outputId": "01dc4cda-c0e5-43d1-f526-257df6c4a8b2"
      },
      "execution_count": 22,
      "outputs": [
        {
          "output_type": "stream",
          "name": "stdout",
          "text": [
            "Epoch 1/50\n",
            "1563/1563 [==============================] - 11s 6ms/step - loss: 1.7564 - accuracy: 0.3447 - val_loss: 1.3492 - val_accuracy: 0.5158\n",
            "Epoch 2/50\n",
            "1563/1563 [==============================] - 10s 6ms/step - loss: 1.3176 - accuracy: 0.5275 - val_loss: 1.0727 - val_accuracy: 0.6114\n",
            "Epoch 3/50\n",
            "1563/1563 [==============================] - 9s 6ms/step - loss: 1.1392 - accuracy: 0.5945 - val_loss: 0.9758 - val_accuracy: 0.6566\n",
            "Epoch 4/50\n",
            "1563/1563 [==============================] - 10s 6ms/step - loss: 1.0450 - accuracy: 0.6321 - val_loss: 0.9136 - val_accuracy: 0.6769\n",
            "Epoch 5/50\n",
            "1563/1563 [==============================] - 10s 6ms/step - loss: 0.9833 - accuracy: 0.6567 - val_loss: 0.8583 - val_accuracy: 0.6965\n",
            "Epoch 6/50\n",
            "1563/1563 [==============================] - 10s 6ms/step - loss: 0.9275 - accuracy: 0.6773 - val_loss: 0.8191 - val_accuracy: 0.7144\n",
            "Epoch 7/50\n",
            "1563/1563 [==============================] - 9s 6ms/step - loss: 0.8900 - accuracy: 0.6910 - val_loss: 0.7830 - val_accuracy: 0.7341\n",
            "Epoch 8/50\n",
            "1563/1563 [==============================] - 10s 7ms/step - loss: 0.8623 - accuracy: 0.7009 - val_loss: 0.7335 - val_accuracy: 0.7468\n",
            "Epoch 9/50\n",
            "1563/1563 [==============================] - 9s 6ms/step - loss: 0.8292 - accuracy: 0.7144 - val_loss: 0.7887 - val_accuracy: 0.7296\n",
            "Epoch 10/50\n",
            "1563/1563 [==============================] - 9s 6ms/step - loss: 0.8050 - accuracy: 0.7220 - val_loss: 0.7062 - val_accuracy: 0.7572\n",
            "Epoch 11/50\n",
            "1563/1563 [==============================] - 9s 6ms/step - loss: 0.7908 - accuracy: 0.7263 - val_loss: 0.7181 - val_accuracy: 0.7525\n",
            "Epoch 12/50\n",
            "1563/1563 [==============================] - 9s 6ms/step - loss: 0.7742 - accuracy: 0.7357 - val_loss: 0.7349 - val_accuracy: 0.7529\n",
            "Epoch 13/50\n",
            "1563/1563 [==============================] - 10s 6ms/step - loss: 0.7565 - accuracy: 0.7403 - val_loss: 0.6908 - val_accuracy: 0.7649\n",
            "Epoch 14/50\n",
            "1563/1563 [==============================] - 10s 6ms/step - loss: 0.7550 - accuracy: 0.7432 - val_loss: 0.7051 - val_accuracy: 0.7616\n",
            "Epoch 15/50\n",
            "1563/1563 [==============================] - 10s 6ms/step - loss: 0.7399 - accuracy: 0.7469 - val_loss: 0.6827 - val_accuracy: 0.7688\n",
            "Epoch 16/50\n",
            "1563/1563 [==============================] - 10s 6ms/step - loss: 0.7257 - accuracy: 0.7512 - val_loss: 0.6521 - val_accuracy: 0.7828\n",
            "Epoch 17/50\n",
            "1563/1563 [==============================] - 9s 6ms/step - loss: 0.7272 - accuracy: 0.7528 - val_loss: 0.7736 - val_accuracy: 0.7440\n",
            "Epoch 18/50\n",
            "1563/1563 [==============================] - 10s 6ms/step - loss: 0.7109 - accuracy: 0.7574 - val_loss: 0.7117 - val_accuracy: 0.7611\n",
            "Epoch 19/50\n",
            "1563/1563 [==============================] - 9s 6ms/step - loss: 0.7119 - accuracy: 0.7562 - val_loss: 0.7035 - val_accuracy: 0.7668\n",
            "Epoch 20/50\n",
            "1563/1563 [==============================] - 10s 6ms/step - loss: 0.6997 - accuracy: 0.7602 - val_loss: 0.6459 - val_accuracy: 0.7855\n",
            "Epoch 21/50\n",
            "1563/1563 [==============================] - 9s 6ms/step - loss: 0.7004 - accuracy: 0.7617 - val_loss: 0.6580 - val_accuracy: 0.7807\n",
            "Epoch 22/50\n",
            "1563/1563 [==============================] - 10s 6ms/step - loss: 0.6889 - accuracy: 0.7637 - val_loss: 0.6596 - val_accuracy: 0.7793\n",
            "Epoch 23/50\n",
            "1563/1563 [==============================] - 9s 6ms/step - loss: 0.6839 - accuracy: 0.7665 - val_loss: 0.6638 - val_accuracy: 0.7783\n",
            "Epoch 24/50\n",
            "1563/1563 [==============================] - 10s 6ms/step - loss: 0.6686 - accuracy: 0.7702 - val_loss: 0.6394 - val_accuracy: 0.7836\n",
            "Epoch 25/50\n",
            "1563/1563 [==============================] - 9s 6ms/step - loss: 0.6797 - accuracy: 0.7707 - val_loss: 0.7031 - val_accuracy: 0.7662\n",
            "Epoch 26/50\n",
            "1563/1563 [==============================] - 9s 6ms/step - loss: 0.6722 - accuracy: 0.7707 - val_loss: 0.6208 - val_accuracy: 0.7971\n",
            "Epoch 27/50\n",
            "1563/1563 [==============================] - 10s 6ms/step - loss: 0.6716 - accuracy: 0.7715 - val_loss: 0.6821 - val_accuracy: 0.7759\n",
            "Epoch 28/50\n",
            "1563/1563 [==============================] - 9s 6ms/step - loss: 0.6641 - accuracy: 0.7764 - val_loss: 0.6499 - val_accuracy: 0.7866\n",
            "Epoch 29/50\n",
            "1563/1563 [==============================] - 10s 6ms/step - loss: 0.6600 - accuracy: 0.7752 - val_loss: 0.6896 - val_accuracy: 0.7743\n",
            "Epoch 30/50\n",
            "1563/1563 [==============================] - 10s 6ms/step - loss: 0.6565 - accuracy: 0.7769 - val_loss: 0.6217 - val_accuracy: 0.7921\n",
            "Epoch 31/50\n",
            "1563/1563 [==============================] - 10s 6ms/step - loss: 0.6527 - accuracy: 0.7797 - val_loss: 0.6325 - val_accuracy: 0.7939\n",
            "Epoch 32/50\n",
            "1563/1563 [==============================] - 9s 6ms/step - loss: 0.6536 - accuracy: 0.7788 - val_loss: 0.6615 - val_accuracy: 0.7797\n",
            "Epoch 33/50\n",
            "1563/1563 [==============================] - 9s 6ms/step - loss: 0.6610 - accuracy: 0.7745 - val_loss: 0.6408 - val_accuracy: 0.7886\n",
            "Epoch 34/50\n",
            "1563/1563 [==============================] - 10s 6ms/step - loss: 0.6502 - accuracy: 0.7791 - val_loss: 0.6526 - val_accuracy: 0.7856\n",
            "Epoch 35/50\n",
            "1563/1563 [==============================] - 10s 6ms/step - loss: 0.6626 - accuracy: 0.7756 - val_loss: 0.6359 - val_accuracy: 0.7962\n",
            "Epoch 36/50\n",
            "1563/1563 [==============================] - 9s 6ms/step - loss: 0.6474 - accuracy: 0.7796 - val_loss: 0.6567 - val_accuracy: 0.7918\n",
            "Epoch 37/50\n",
            "1563/1563 [==============================] - 10s 6ms/step - loss: 0.6486 - accuracy: 0.7798 - val_loss: 0.6404 - val_accuracy: 0.7893\n",
            "Epoch 38/50\n",
            "1563/1563 [==============================] - 9s 6ms/step - loss: 0.6551 - accuracy: 0.7787 - val_loss: 0.6439 - val_accuracy: 0.7900\n",
            "Epoch 39/50\n",
            "1563/1563 [==============================] - 9s 6ms/step - loss: 0.6423 - accuracy: 0.7835 - val_loss: 0.6619 - val_accuracy: 0.7867\n",
            "Epoch 40/50\n",
            "1563/1563 [==============================] - 10s 6ms/step - loss: 0.6461 - accuracy: 0.7817 - val_loss: 0.6320 - val_accuracy: 0.7889\n",
            "Epoch 41/50\n",
            "1563/1563 [==============================] - 10s 6ms/step - loss: 0.6463 - accuracy: 0.7847 - val_loss: 0.6275 - val_accuracy: 0.7968\n",
            "Epoch 42/50\n",
            "1563/1563 [==============================] - 10s 6ms/step - loss: 0.6447 - accuracy: 0.7831 - val_loss: 0.6372 - val_accuracy: 0.7869\n",
            "Epoch 43/50\n",
            "1563/1563 [==============================] - 9s 6ms/step - loss: 0.6575 - accuracy: 0.7792 - val_loss: 0.6482 - val_accuracy: 0.7867\n",
            "Epoch 44/50\n",
            "1563/1563 [==============================] - 9s 6ms/step - loss: 0.6393 - accuracy: 0.7853 - val_loss: 0.5997 - val_accuracy: 0.7975\n",
            "Epoch 45/50\n",
            "1563/1563 [==============================] - 12s 8ms/step - loss: 0.6355 - accuracy: 0.7854 - val_loss: 0.6321 - val_accuracy: 0.7987\n",
            "Epoch 46/50\n",
            "1563/1563 [==============================] - 9s 6ms/step - loss: 0.6481 - accuracy: 0.7829 - val_loss: 0.6626 - val_accuracy: 0.7867\n",
            "Epoch 47/50\n",
            "1563/1563 [==============================] - 9s 6ms/step - loss: 0.6351 - accuracy: 0.7852 - val_loss: 0.6484 - val_accuracy: 0.7945\n",
            "Epoch 48/50\n",
            "1563/1563 [==============================] - 10s 6ms/step - loss: 0.6326 - accuracy: 0.7875 - val_loss: 0.6366 - val_accuracy: 0.7949\n",
            "Epoch 49/50\n",
            "1563/1563 [==============================] - 10s 6ms/step - loss: 0.6405 - accuracy: 0.7862 - val_loss: 0.6238 - val_accuracy: 0.7986\n",
            "Epoch 50/50\n",
            "1563/1563 [==============================] - 10s 6ms/step - loss: 0.6390 - accuracy: 0.7846 - val_loss: 0.6807 - val_accuracy: 0.7804\n"
          ]
        }
      ]
    },
    {
      "cell_type": "code",
      "source": [
        "pd.DataFrame(history4.history).plot()"
      ],
      "metadata": {
        "id": "JnSNf3rP1z3_",
        "colab": {
          "base_uri": "https://localhost:8080/",
          "height": 283
        },
        "outputId": "53a80c93-91f8-4e39-d1f3-6c62a0429ec7"
      },
      "execution_count": 23,
      "outputs": [
        {
          "output_type": "execute_result",
          "data": {
            "text/plain": [
              "<matplotlib.axes._subplots.AxesSubplot at 0x7f4e1aab2a50>"
            ]
          },
          "metadata": {},
          "execution_count": 23
        },
        {
          "output_type": "display_data",
          "data": {
            "text/plain": [
              "<Figure size 432x288 with 1 Axes>"
            ],
            "image/png": "[encoded data removed]"
          },
          "metadata": {
            "needs_background": "light"
          }
        }
      ]
    },
    {
      "cell_type": "code",
      "source": [
        "evaluation = model4.evaluate(x_test, y_test_cat)\n",
        "print ('Test Accuracy: {}'.format(evaluation[1]))"
      ],
      "metadata": {
        "id": "085DuAq715rH",
        "colab": {
          "base_uri": "https://localhost:8080/"
        },
        "outputId": "1660f925-a2bc-4b74-b5d9-3771467bc348"
      },
      "execution_count": 24,
      "outputs": [
        {
          "output_type": "stream",
          "name": "stdout",
          "text": [
            "313/313 [==============================] - 1s 3ms/step - loss: 0.6807 - accuracy: 0.7804\n",
            "Test Accuracy: 0.7803999781608582\n"
          ]
        }
      ]
    },
    {
      "cell_type": "markdown",
      "source": [
        "#Modelo 5: adicionando Batch Normalization"
      ],
      "metadata": {
        "id": "8E9Wd8sm2ktC"
      }
    },
    {
      "cell_type": "code",
      "source": [
        "model5 = Sequential()\n",
        "model5.add(Conv2D(32, (3, 3), activation='relu', kernel_initializer='he_uniform', padding='same', input_shape=(32, 32, 3)))\n",
        "model5.add(BatchNormalization())\n",
        "model5.add(Conv2D(32, (3, 3), activation='relu', kernel_initializer='he_uniform', padding='same'))\n",
        "model5.add(BatchNormalization())\n",
        "model5.add(MaxPool2D((2, 2)))\n",
        "model5.add(Dropout(0.2))\n",
        "model5.add(Conv2D(64, (3, 3), activation='relu', kernel_initializer='he_uniform', padding='same'))\n",
        "model5.add(BatchNormalization())\n",
        "model5.add(Conv2D(64, (3, 3), activation='relu', kernel_initializer='he_uniform', padding='same'))\n",
        "model5.add(BatchNormalization())\n",
        "model5.add(MaxPool2D((2, 2)))\n",
        "model5.add(Dropout(0.3))\n",
        "model5.add(Conv2D(128, (3, 3), activation='relu', kernel_initializer='he_uniform', padding='same'))\n",
        "model5.add(BatchNormalization())\n",
        "model5.add(Conv2D(128, (3, 3), activation='relu', kernel_initializer='he_uniform', padding='same'))\n",
        "model5.add(BatchNormalization())\n",
        "model5.add(MaxPool2D((2, 2)))\n",
        "model5.add(Dropout(0.4))\n",
        "model5.add(Flatten())\n",
        "model5.add(Dense(128, activation='relu', kernel_initializer='he_uniform'))\n",
        "model5.add(BatchNormalization())\n",
        "model5.add(Dropout(0.5))\n",
        "model5.add(Dense(10, activation='softmax'))\n",
        "model5.compile(optimizer='adam', loss='categorical_crossentropy', metrics=['accuracy'])\n",
        "history5=model5.fit(x_train,y_train_cat,epochs=50,validation_data=(x_test,y_test_cat))"
      ],
      "metadata": {
        "id": "BXd-UkDv2j2y",
        "colab": {
          "base_uri": "https://localhost:8080/"
        },
        "outputId": "8e7e17da-2a71-4b3a-b15a-13ab3980028c"
      },
      "execution_count": 25,
      "outputs": [
        {
          "output_type": "stream",
          "name": "stdout",
          "text": [
            "Epoch 1/50\n",
            "1563/1563 [==============================] - 13s 8ms/step - loss: 1.6125 - accuracy: 0.4391 - val_loss: 1.1138 - val_accuracy: 0.6043\n",
            "Epoch 2/50\n",
            "1563/1563 [==============================] - 11s 7ms/step - loss: 1.0928 - accuracy: 0.6156 - val_loss: 0.8948 - val_accuracy: 0.6832\n",
            "Epoch 3/50\n",
            "1563/1563 [==============================] - 11s 7ms/step - loss: 0.9097 - accuracy: 0.6817 - val_loss: 0.7934 - val_accuracy: 0.7227\n",
            "Epoch 4/50\n",
            "1563/1563 [==============================] - 12s 7ms/step - loss: 0.8062 - accuracy: 0.7216 - val_loss: 0.7387 - val_accuracy: 0.7511\n",
            "Epoch 5/50\n",
            "1563/1563 [==============================] - 12s 8ms/step - loss: 0.7286 - accuracy: 0.7493 - val_loss: 0.6394 - val_accuracy: 0.7778\n",
            "Epoch 6/50\n",
            "1563/1563 [==============================] - 12s 8ms/step - loss: 0.6672 - accuracy: 0.7720 - val_loss: 0.5736 - val_accuracy: 0.8007\n",
            "Epoch 7/50\n",
            "1563/1563 [==============================] - 11s 7ms/step - loss: 0.6232 - accuracy: 0.7851 - val_loss: 0.6190 - val_accuracy: 0.7874\n",
            "Epoch 8/50\n",
            "1563/1563 [==============================] - 11s 7ms/step - loss: 0.5882 - accuracy: 0.7981 - val_loss: 0.5298 - val_accuracy: 0.8154\n",
            "Epoch 9/50\n",
            "1563/1563 [==============================] - 12s 8ms/step - loss: 0.5516 - accuracy: 0.8115 - val_loss: 0.5220 - val_accuracy: 0.8222\n",
            "Epoch 10/50\n",
            "1563/1563 [==============================] - 12s 7ms/step - loss: 0.5266 - accuracy: 0.8202 - val_loss: 0.5334 - val_accuracy: 0.8184\n",
            "Epoch 11/50\n",
            "1563/1563 [==============================] - 11s 7ms/step - loss: 0.5037 - accuracy: 0.8284 - val_loss: 0.5239 - val_accuracy: 0.8195\n",
            "Epoch 12/50\n",
            "1563/1563 [==============================] - 12s 7ms/step - loss: 0.4891 - accuracy: 0.8315 - val_loss: 0.4884 - val_accuracy: 0.8359\n",
            "Epoch 13/50\n",
            "1563/1563 [==============================] - 12s 8ms/step - loss: 0.4649 - accuracy: 0.8415 - val_loss: 0.5228 - val_accuracy: 0.8225\n",
            "Epoch 14/50\n",
            "1563/1563 [==============================] - 12s 7ms/step - loss: 0.4482 - accuracy: 0.8475 - val_loss: 0.4762 - val_accuracy: 0.8423\n",
            "Epoch 15/50\n",
            "1563/1563 [==============================] - 12s 7ms/step - loss: 0.4291 - accuracy: 0.8528 - val_loss: 0.4864 - val_accuracy: 0.8380\n",
            "Epoch 16/50\n",
            "1563/1563 [==============================] - 12s 8ms/step - loss: 0.4190 - accuracy: 0.8554 - val_loss: 0.4965 - val_accuracy: 0.8393\n",
            "Epoch 17/50\n",
            "1563/1563 [==============================] - 12s 8ms/step - loss: 0.4049 - accuracy: 0.8624 - val_loss: 0.5581 - val_accuracy: 0.8147\n",
            "Epoch 18/50\n",
            "1563/1563 [==============================] - 12s 8ms/step - loss: 0.3936 - accuracy: 0.8654 - val_loss: 0.4828 - val_accuracy: 0.8428\n",
            "Epoch 19/50\n",
            "1563/1563 [==============================] - 12s 7ms/step - loss: 0.3829 - accuracy: 0.8692 - val_loss: 0.4708 - val_accuracy: 0.8467\n",
            "Epoch 20/50\n",
            "1563/1563 [==============================] - 12s 7ms/step - loss: 0.3701 - accuracy: 0.8718 - val_loss: 0.4859 - val_accuracy: 0.8421\n",
            "Epoch 21/50\n",
            "1563/1563 [==============================] - 12s 8ms/step - loss: 0.3597 - accuracy: 0.8759 - val_loss: 0.4892 - val_accuracy: 0.8374\n",
            "Epoch 22/50\n",
            "1563/1563 [==============================] - 12s 8ms/step - loss: 0.3522 - accuracy: 0.8782 - val_loss: 0.4801 - val_accuracy: 0.8456\n",
            "Epoch 23/50\n",
            "1563/1563 [==============================] - 11s 7ms/step - loss: 0.3408 - accuracy: 0.8824 - val_loss: 0.4452 - val_accuracy: 0.8569\n",
            "Epoch 24/50\n",
            "1563/1563 [==============================] - 12s 8ms/step - loss: 0.3369 - accuracy: 0.8827 - val_loss: 0.4877 - val_accuracy: 0.8493\n",
            "Epoch 25/50\n",
            "1563/1563 [==============================] - 12s 8ms/step - loss: 0.3281 - accuracy: 0.8865 - val_loss: 0.5162 - val_accuracy: 0.8325\n",
            "Epoch 26/50\n",
            "1563/1563 [==============================] - 12s 8ms/step - loss: 0.3218 - accuracy: 0.8898 - val_loss: 0.4661 - val_accuracy: 0.8542\n",
            "Epoch 27/50\n",
            "1563/1563 [==============================] - 12s 8ms/step - loss: 0.3137 - accuracy: 0.8907 - val_loss: 0.4840 - val_accuracy: 0.8462\n",
            "Epoch 28/50\n",
            "1563/1563 [==============================] - 12s 8ms/step - loss: 0.3115 - accuracy: 0.8925 - val_loss: 0.4613 - val_accuracy: 0.8537\n",
            "Epoch 29/50\n",
            "1563/1563 [==============================] - 12s 8ms/step - loss: 0.3053 - accuracy: 0.8948 - val_loss: 0.4517 - val_accuracy: 0.8603\n",
            "Epoch 30/50\n",
            "1563/1563 [==============================] - 12s 7ms/step - loss: 0.2954 - accuracy: 0.8960 - val_loss: 0.4523 - val_accuracy: 0.8612\n",
            "Epoch 31/50\n",
            "1563/1563 [==============================] - 12s 8ms/step - loss: 0.2938 - accuracy: 0.8982 - val_loss: 0.5216 - val_accuracy: 0.8389\n",
            "Epoch 32/50\n",
            "1563/1563 [==============================] - 12s 8ms/step - loss: 0.2886 - accuracy: 0.8993 - val_loss: 0.4486 - val_accuracy: 0.8627\n",
            "Epoch 33/50\n",
            "1563/1563 [==============================] - 12s 7ms/step - loss: 0.2791 - accuracy: 0.9028 - val_loss: 0.4566 - val_accuracy: 0.8610\n",
            "Epoch 34/50\n",
            "1563/1563 [==============================] - 12s 8ms/step - loss: 0.2739 - accuracy: 0.9037 - val_loss: 0.4292 - val_accuracy: 0.8659\n",
            "Epoch 35/50\n",
            "1563/1563 [==============================] - 12s 8ms/step - loss: 0.2767 - accuracy: 0.9043 - val_loss: 0.4537 - val_accuracy: 0.8597\n",
            "Epoch 36/50\n",
            "1563/1563 [==============================] - 12s 8ms/step - loss: 0.2745 - accuracy: 0.9055 - val_loss: 0.4366 - val_accuracy: 0.8641\n",
            "Epoch 37/50\n",
            "1563/1563 [==============================] - 11s 7ms/step - loss: 0.2658 - accuracy: 0.9077 - val_loss: 0.4359 - val_accuracy: 0.8622\n",
            "Epoch 38/50\n",
            "1563/1563 [==============================] - 12s 8ms/step - loss: 0.2591 - accuracy: 0.9107 - val_loss: 0.4449 - val_accuracy: 0.8643\n",
            "Epoch 39/50\n",
            "1563/1563 [==============================] - 12s 8ms/step - loss: 0.2577 - accuracy: 0.9111 - val_loss: 0.4395 - val_accuracy: 0.8664\n",
            "Epoch 40/50\n",
            "1563/1563 [==============================] - 12s 8ms/step - loss: 0.2586 - accuracy: 0.9114 - val_loss: 0.4373 - val_accuracy: 0.8673\n",
            "Epoch 41/50\n",
            "1563/1563 [==============================] - 12s 8ms/step - loss: 0.2511 - accuracy: 0.9125 - val_loss: 0.4760 - val_accuracy: 0.8552\n",
            "Epoch 42/50\n",
            "1563/1563 [==============================] - 11s 7ms/step - loss: 0.2534 - accuracy: 0.9125 - val_loss: 0.4610 - val_accuracy: 0.8605\n",
            "Epoch 43/50\n",
            "1563/1563 [==============================] - 12s 8ms/step - loss: 0.2461 - accuracy: 0.9145 - val_loss: 0.4542 - val_accuracy: 0.8653\n",
            "Epoch 44/50\n",
            "1563/1563 [==============================] - 11s 7ms/step - loss: 0.2432 - accuracy: 0.9148 - val_loss: 0.4584 - val_accuracy: 0.8642\n",
            "Epoch 45/50\n",
            "1563/1563 [==============================] - 12s 8ms/step - loss: 0.2445 - accuracy: 0.9160 - val_loss: 0.4587 - val_accuracy: 0.8595\n",
            "Epoch 46/50\n",
            "1563/1563 [==============================] - 12s 8ms/step - loss: 0.2309 - accuracy: 0.9203 - val_loss: 0.4503 - val_accuracy: 0.8666\n",
            "Epoch 47/50\n",
            "1563/1563 [==============================] - 12s 8ms/step - loss: 0.2366 - accuracy: 0.9181 - val_loss: 0.4708 - val_accuracy: 0.8615\n",
            "Epoch 48/50\n",
            "1563/1563 [==============================] - 12s 8ms/step - loss: 0.2280 - accuracy: 0.9213 - val_loss: 0.4550 - val_accuracy: 0.8630\n",
            "Epoch 49/50\n",
            "1563/1563 [==============================] - 12s 8ms/step - loss: 0.2289 - accuracy: 0.9209 - val_loss: 0.4637 - val_accuracy: 0.8607\n",
            "Epoch 50/50\n",
            "1563/1563 [==============================] - 11s 7ms/step - loss: 0.2294 - accuracy: 0.9203 - val_loss: 0.4563 - val_accuracy: 0.8643\n"
          ]
        }
      ]
    },
    {
      "cell_type": "code",
      "source": [
        "pd.DataFrame(history5.history).plot()"
      ],
      "metadata": {
        "id": "XWwpBf-t4FPX",
        "colab": {
          "base_uri": "https://localhost:8080/",
          "height": 282
        },
        "outputId": "fdc73892-cd91-4c34-b3fe-d1879fcd8fd4"
      },
      "execution_count": 26,
      "outputs": [
        {
          "output_type": "execute_result",
          "data": {
            "text/plain": [
              "<matplotlib.axes._subplots.AxesSubplot at 0x7f4dc4447fd0>"
            ]
          },
          "metadata": {},
          "execution_count": 26
        },
        {
          "output_type": "display_data",
          "data": {
            "text/plain": [
              "<Figure size 432x288 with 1 Axes>"
            ],
            "image/png": "[encoded data removed]"
          },
          "metadata": {
            "needs_background": "light"
          }
        }
      ]
    },
    {
      "cell_type": "code",
      "source": [
        "evaluation = model5.evaluate(x_test, y_test_cat)\n",
        "print('Test Accuracy: {}'.format(evaluation[1]))"
      ],
      "metadata": {
        "id": "UjjV4wAU4IjK",
        "colab": {
          "base_uri": "https://localhost:8080/"
        },
        "outputId": "65c77537-1694-4cc5-8292-26ca73e35fdb"
      },
      "execution_count": 27,
      "outputs": [
        {
          "output_type": "stream",
          "name": "stdout",
          "text": [
            "313/313 [==============================] - 1s 4ms/step - loss: 0.4563 - accuracy: 0.8643\n",
            "Test Accuracy: 0.864300012588501\n"
          ]
        }
      ]
    },
    {
      "cell_type": "markdown",
      "source": [
        "# Modelo 6: adicionando mais camadas com Dropout e Batch Normalization"
      ],
      "metadata": {
        "id": "QJXJxw8u6mY-"
      }
    },
    {
      "cell_type": "code",
      "source": [
        "model6 = Sequential()\n",
        "model6.add(Conv2D(32, (3, 3), activation='relu', kernel_initializer='he_uniform', padding='same', input_shape=(32, 32, 3)))\n",
        "model6.add(BatchNormalization())\n",
        "model6.add(Conv2D(32, (3, 3), activation='relu', kernel_initializer='he_uniform', padding='same'))\n",
        "model6.add(BatchNormalization())\n",
        "model6.add(MaxPool2D((2, 2)))\n",
        "model6.add(Dropout(0.2))\n",
        "\n",
        "model6.add(Conv2D(64, (3, 3), activation='relu', kernel_initializer='he_uniform', padding='same'))\n",
        "model6.add(BatchNormalization())\n",
        "model6.add(Conv2D(64, (3, 3), activation='relu', kernel_initializer='he_uniform', padding='same'))\n",
        "model6.add(BatchNormalization())\n",
        "model6.add(MaxPool2D((2, 2)))\n",
        "model6.add(Dropout(0.3))\n",
        "\n",
        "model6.add(Conv2D(128, (3, 3), activation='relu', kernel_initializer='he_uniform', padding='same'))\n",
        "model6.add(BatchNormalization())\n",
        "model6.add(Conv2D(128, (3, 3), activation='relu', kernel_initializer='he_uniform', padding='same'))\n",
        "model6.add(BatchNormalization())\n",
        "model6.add(MaxPool2D((2, 2)))\n",
        "model6.add(Dropout(0.4))\n",
        "\n",
        "\n",
        "model6.add(Conv2D(256, (3, 3), activation='relu', kernel_initializer='he_uniform', padding='same'))\n",
        "model6.add(BatchNormalization())\n",
        "model6.add(Conv2D(256, (3, 3), activation='relu', kernel_initializer='he_uniform', padding='same'))\n",
        "model6.add(BatchNormalization())\n",
        "model6.add(MaxPool2D((2, 2)))\n",
        "model6.add(Dropout(0.3))\n",
        "\n",
        "model6.add(Conv2D(512, (3, 3), activation='relu', kernel_initializer='he_uniform', padding='same'))\n",
        "model6.add(BatchNormalization())\n",
        "model6.add(Conv2D(512, (3, 3), activation='relu', kernel_initializer='he_uniform', padding='same'))\n",
        "model6.add(BatchNormalization())\n",
        "model6.add(MaxPooling2D((2, 2)))\n",
        "model6.add(Dropout(0.4))\n",
        "\n",
        "\n",
        "model6.add(Flatten())\n",
        "model6.add(Dense(128, activation='relu', kernel_initializer='he_uniform'))\n",
        "model6.add(BatchNormalization())\n",
        "model6.add(Dropout(0.5))\n",
        "model6.add(Dense(10, activation='softmax'))\n",
        "\n",
        "model6.compile(optimizer='adam', loss='categorical_crossentropy', metrics=['accuracy'])\n",
        "history5=model6.fit(x_train,y_train_cat,epochs=50,validation_data=(x_test,y_test_cat))"
      ],
      "metadata": {
        "id": "g81FecRW52LU",
        "colab": {
          "base_uri": "https://localhost:8080/"
        },
        "outputId": "ec61f640-e442-4615-d53e-1a2d74dc4e49"
      },
      "execution_count": 28,
      "outputs": [
        {
          "output_type": "stream",
          "name": "stdout",
          "text": [
            "Epoch 1/50\n",
            "1563/1563 [==============================] - 24s 14ms/step - loss: 1.7325 - accuracy: 0.3931 - val_loss: 1.2386 - val_accuracy: 0.5512\n",
            "Epoch 2/50\n",
            "1563/1563 [==============================] - 22s 14ms/step - loss: 1.1672 - accuracy: 0.5896 - val_loss: 1.0026 - val_accuracy: 0.6512\n",
            "Epoch 3/50\n",
            "1563/1563 [==============================] - 22s 14ms/step - loss: 0.9584 - accuracy: 0.6704 - val_loss: 0.8175 - val_accuracy: 0.7186\n",
            "Epoch 4/50\n",
            "1563/1563 [==============================] - 22s 14ms/step - loss: 0.8317 - accuracy: 0.7209 - val_loss: 0.6855 - val_accuracy: 0.7607\n",
            "Epoch 5/50\n",
            "1563/1563 [==============================] - 21s 13ms/step - loss: 0.7394 - accuracy: 0.7536 - val_loss: 0.5936 - val_accuracy: 0.7990\n",
            "Epoch 6/50\n",
            "1563/1563 [==============================] - 21s 13ms/step - loss: 0.6654 - accuracy: 0.7797 - val_loss: 0.6190 - val_accuracy: 0.7910\n",
            "Epoch 7/50\n",
            "1563/1563 [==============================] - 22s 14ms/step - loss: 0.6172 - accuracy: 0.7966 - val_loss: 0.5744 - val_accuracy: 0.8054\n",
            "Epoch 8/50\n",
            "1563/1563 [==============================] - 22s 14ms/step - loss: 0.5708 - accuracy: 0.8140 - val_loss: 0.5448 - val_accuracy: 0.8190\n",
            "Epoch 9/50\n",
            "1563/1563 [==============================] - 21s 13ms/step - loss: 0.5204 - accuracy: 0.8301 - val_loss: 0.5822 - val_accuracy: 0.8050\n",
            "Epoch 10/50\n",
            "1563/1563 [==============================] - 21s 14ms/step - loss: 0.4949 - accuracy: 0.8376 - val_loss: 0.5190 - val_accuracy: 0.8230\n",
            "Epoch 11/50\n",
            "1563/1563 [==============================] - 21s 13ms/step - loss: 0.4626 - accuracy: 0.8479 - val_loss: 0.4722 - val_accuracy: 0.8483\n",
            "Epoch 12/50\n",
            "1563/1563 [==============================] - 22s 14ms/step - loss: 0.4286 - accuracy: 0.8580 - val_loss: 0.5173 - val_accuracy: 0.8347\n",
            "Epoch 13/50\n",
            "1563/1563 [==============================] - 21s 13ms/step - loss: 0.4075 - accuracy: 0.8656 - val_loss: 0.4889 - val_accuracy: 0.8413\n",
            "Epoch 14/50\n",
            "1563/1563 [==============================] - 22s 14ms/step - loss: 0.3858 - accuracy: 0.8734 - val_loss: 0.5207 - val_accuracy: 0.8295\n",
            "Epoch 15/50\n",
            "1563/1563 [==============================] - 22s 14ms/step - loss: 0.3623 - accuracy: 0.8807 - val_loss: 0.5246 - val_accuracy: 0.8320\n",
            "Epoch 16/50\n",
            "1563/1563 [==============================] - 21s 13ms/step - loss: 0.3407 - accuracy: 0.8864 - val_loss: 0.5093 - val_accuracy: 0.8408\n",
            "Epoch 17/50\n",
            "1563/1563 [==============================] - 22s 14ms/step - loss: 0.3287 - accuracy: 0.8922 - val_loss: 0.4956 - val_accuracy: 0.8437\n",
            "Epoch 18/50\n",
            "1563/1563 [==============================] - 21s 13ms/step - loss: 0.3136 - accuracy: 0.8962 - val_loss: 0.4614 - val_accuracy: 0.8570\n",
            "Epoch 19/50\n",
            "1563/1563 [==============================] - 22s 14ms/step - loss: 0.2972 - accuracy: 0.9033 - val_loss: 0.4634 - val_accuracy: 0.8564\n",
            "Epoch 20/50\n",
            "1563/1563 [==============================] - 21s 14ms/step - loss: 0.2866 - accuracy: 0.9040 - val_loss: 0.4610 - val_accuracy: 0.8599\n",
            "Epoch 21/50\n",
            "1563/1563 [==============================] - 21s 14ms/step - loss: 0.2746 - accuracy: 0.9096 - val_loss: 0.4493 - val_accuracy: 0.8644\n",
            "Epoch 22/50\n",
            "1563/1563 [==============================] - 21s 14ms/step - loss: 0.2664 - accuracy: 0.9126 - val_loss: 0.4708 - val_accuracy: 0.8603\n",
            "Epoch 23/50\n",
            "1563/1563 [==============================] - 23s 14ms/step - loss: 0.2517 - accuracy: 0.9164 - val_loss: 0.4838 - val_accuracy: 0.8563\n",
            "Epoch 24/50\n",
            "1563/1563 [==============================] - 21s 14ms/step - loss: 0.2473 - accuracy: 0.9172 - val_loss: 0.5186 - val_accuracy: 0.8474\n",
            "Epoch 25/50\n",
            "1563/1563 [==============================] - 21s 14ms/step - loss: 0.2343 - accuracy: 0.9225 - val_loss: 0.5008 - val_accuracy: 0.8507\n",
            "Epoch 26/50\n",
            "1563/1563 [==============================] - 22s 14ms/step - loss: 0.2308 - accuracy: 0.9236 - val_loss: 0.5013 - val_accuracy: 0.8546\n",
            "Epoch 27/50\n",
            "1563/1563 [==============================] - 21s 14ms/step - loss: 0.2199 - accuracy: 0.9279 - val_loss: 0.5050 - val_accuracy: 0.8542\n",
            "Epoch 28/50\n",
            "1563/1563 [==============================] - 22s 14ms/step - loss: 0.2091 - accuracy: 0.9306 - val_loss: 0.4861 - val_accuracy: 0.8556\n",
            "Epoch 29/50\n",
            "1563/1563 [==============================] - 22s 14ms/step - loss: 0.2061 - accuracy: 0.9323 - val_loss: 0.4993 - val_accuracy: 0.8577\n",
            "Epoch 30/50\n",
            "1563/1563 [==============================] - 22s 14ms/step - loss: 0.2066 - accuracy: 0.9303 - val_loss: 0.5070 - val_accuracy: 0.8564\n",
            "Epoch 31/50\n",
            "1563/1563 [==============================] - 22s 14ms/step - loss: 0.1950 - accuracy: 0.9349 - val_loss: 0.4993 - val_accuracy: 0.8591\n",
            "Epoch 32/50\n",
            "1563/1563 [==============================] - 22s 14ms/step - loss: 0.1869 - accuracy: 0.9388 - val_loss: 0.4993 - val_accuracy: 0.8623\n",
            "Epoch 33/50\n",
            "1563/1563 [==============================] - 23s 14ms/step - loss: 0.1827 - accuracy: 0.9394 - val_loss: 0.5565 - val_accuracy: 0.8455\n",
            "Epoch 34/50\n",
            "1563/1563 [==============================] - 21s 14ms/step - loss: 0.1802 - accuracy: 0.9412 - val_loss: 0.5561 - val_accuracy: 0.8494\n",
            "Epoch 35/50\n",
            "1563/1563 [==============================] - 23s 14ms/step - loss: 0.1752 - accuracy: 0.9415 - val_loss: 0.5245 - val_accuracy: 0.8605\n",
            "Epoch 36/50\n",
            "1563/1563 [==============================] - 23s 14ms/step - loss: 0.1669 - accuracy: 0.9452 - val_loss: 0.5349 - val_accuracy: 0.8571\n",
            "Epoch 37/50\n",
            "1563/1563 [==============================] - 21s 14ms/step - loss: 0.1635 - accuracy: 0.9449 - val_loss: 0.5260 - val_accuracy: 0.8581\n",
            "Epoch 38/50\n",
            "1563/1563 [==============================] - 23s 14ms/step - loss: 0.1676 - accuracy: 0.9449 - val_loss: 0.5232 - val_accuracy: 0.8537\n",
            "Epoch 39/50\n",
            "1563/1563 [==============================] - 21s 14ms/step - loss: 0.1556 - accuracy: 0.9483 - val_loss: 0.5123 - val_accuracy: 0.8653\n",
            "Epoch 40/50\n",
            "1563/1563 [==============================] - 23s 14ms/step - loss: 0.1554 - accuracy: 0.9490 - val_loss: 0.5268 - val_accuracy: 0.8622\n",
            "Epoch 41/50\n",
            "1563/1563 [==============================] - 23s 15ms/step - loss: 0.1505 - accuracy: 0.9498 - val_loss: 0.5563 - val_accuracy: 0.8559\n",
            "Epoch 42/50\n",
            "1563/1563 [==============================] - 22s 14ms/step - loss: 0.1461 - accuracy: 0.9520 - val_loss: 0.5188 - val_accuracy: 0.8644\n",
            "Epoch 43/50\n",
            "1563/1563 [==============================] - 23s 14ms/step - loss: 0.1428 - accuracy: 0.9525 - val_loss: 0.5490 - val_accuracy: 0.8621\n",
            "Epoch 44/50\n",
            "1563/1563 [==============================] - 21s 14ms/step - loss: 0.1381 - accuracy: 0.9552 - val_loss: 0.5328 - val_accuracy: 0.8614\n",
            "Epoch 45/50\n",
            "1563/1563 [==============================] - 23s 15ms/step - loss: 0.1381 - accuracy: 0.9552 - val_loss: 0.5506 - val_accuracy: 0.8546\n",
            "Epoch 46/50\n",
            "1563/1563 [==============================] - 21s 14ms/step - loss: 0.1317 - accuracy: 0.9565 - val_loss: 0.5245 - val_accuracy: 0.8692\n",
            "Epoch 47/50\n",
            "1563/1563 [==============================] - 21s 14ms/step - loss: 0.1322 - accuracy: 0.9567 - val_loss: 0.5399 - val_accuracy: 0.8637\n",
            "Epoch 48/50\n",
            "1563/1563 [==============================] - 21s 14ms/step - loss: 0.1331 - accuracy: 0.9573 - val_loss: 0.5413 - val_accuracy: 0.8622\n",
            "Epoch 49/50\n",
            "1563/1563 [==============================] - 23s 15ms/step - loss: 0.1321 - accuracy: 0.9564 - val_loss: 0.5395 - val_accuracy: 0.8608\n",
            "Epoch 50/50\n",
            "1563/1563 [==============================] - 21s 14ms/step - loss: 0.1239 - accuracy: 0.9594 - val_loss: 0.5418 - val_accuracy: 0.8661\n"
          ]
        }
      ]
    },
    {
      "cell_type": "code",
      "source": [
        "pd.DataFrame(history5.history).plot()"
      ],
      "metadata": {
        "id": "lU3sD6E3AK8H",
        "colab": {
          "base_uri": "https://localhost:8080/",
          "height": 285
        },
        "outputId": "05066ce8-7221-4af5-baeb-b26514f4296c"
      },
      "execution_count": 29,
      "outputs": [
        {
          "output_type": "execute_result",
          "data": {
            "text/plain": [
              "<matplotlib.axes._subplots.AxesSubplot at 0x7f4dc48498d0>"
            ]
          },
          "metadata": {},
          "execution_count": 29
        },
        {
          "output_type": "display_data",
          "data": {
            "text/plain": [
              "<Figure size 432x288 with 1 Axes>"
            ],
            "image/png": "[encoded data removed]"
          },
          "metadata": {
            "needs_background": "light"
          }
        }
      ]
    },
    {
      "cell_type": "code",
      "source": [
        "evaluation = model6.evaluate(x_test, y_test_cat)\n",
        "print('Test Accuracy: {}'.format(evaluation[1]))"
      ],
      "metadata": {
        "id": "8plOTsulAURj",
        "colab": {
          "base_uri": "https://localhost:8080/"
        },
        "outputId": "2a768d94-9caf-424e-b105-88bea26ff92d"
      },
      "execution_count": 30,
      "outputs": [
        {
          "output_type": "stream",
          "name": "stdout",
          "text": [
            "313/313 [==============================] - 2s 6ms/step - loss: 0.5418 - accuracy: 0.8661\n",
            "Test Accuracy: 0.866100013256073\n"
          ]
        }
      ]
    },
    {
      "cell_type": "markdown",
      "source": [
        "#Modelo 7: adicionando Image Augmentation"
      ],
      "metadata": {
        "id": "Mt7klV3nFVai"
      }
    },
    {
      "cell_type": "code",
      "source": [
        "model7 = Sequential()\n",
        "model7.add(Conv2D(32, (3, 3), activation='relu', kernel_initializer='he_uniform', padding='same', input_shape=(32, 32, 3)))\n",
        "model7.add(BatchNormalization())\n",
        "model7.add(Conv2D(32, (3, 3), activation='relu', kernel_initializer='he_uniform', padding='same'))\n",
        "model7.add(BatchNormalization())\n",
        "model7.add(MaxPool2D((2, 2)))\n",
        "model7.add(Dropout(0.2))\n",
        "\n",
        "model7.add(Conv2D(64, (3, 3), activation='relu', kernel_initializer='he_uniform', padding='same'))\n",
        "model7.add(BatchNormalization())\n",
        "model7.add(Conv2D(64, (3, 3), activation='relu', kernel_initializer='he_uniform', padding='same'))\n",
        "model7.add(BatchNormalization())\n",
        "model7.add(MaxPool2D((2, 2)))\n",
        "model7.add(Dropout(0.3))\n",
        "\n",
        "model7.add(Conv2D(128, (3, 3), activation='relu', kernel_initializer='he_uniform', padding='same'))\n",
        "model7.add(BatchNormalization())\n",
        "model7.add(Conv2D(128, (3, 3), activation='relu', kernel_initializer='he_uniform', padding='same'))\n",
        "model7.add(BatchNormalization())\n",
        "model7.add(MaxPool2D((2, 2)))\n",
        "model7.add(Dropout(0.4))\n",
        "\n",
        "\n",
        "model7.add(Conv2D(256, (3, 3), activation='relu', kernel_initializer='he_uniform', padding='same'))\n",
        "model7.add(BatchNormalization())\n",
        "model7.add(Conv2D(256, (3, 3), activation='relu', kernel_initializer='he_uniform', padding='same'))\n",
        "model7.add(BatchNormalization())\n",
        "model7.add(MaxPool2D((2, 2)))\n",
        "model7.add(Dropout(0.3))\n",
        "\n",
        "model7.add(Conv2D(512, (3, 3), activation='relu', kernel_initializer='he_uniform', padding='same'))\n",
        "model7.add(BatchNormalization())\n",
        "model7.add(Conv2D(512, (3, 3), activation='relu', kernel_initializer='he_uniform', padding='same'))\n",
        "model7.add(BatchNormalization())\n",
        "model7.add(MaxPooling2D((2, 2)))\n",
        "model7.add(Dropout(0.4))\n",
        "\n",
        "\n",
        "model7.add(Flatten())\n",
        "model7.add(Dense(128, activation='relu', kernel_initializer='he_uniform'))\n",
        "model7.add(BatchNormalization())\n",
        "model7.add(Dropout(0.5))\n",
        "model7.add(Dense(10, activation='softmax'))\n",
        "\n",
        "model7.compile(optimizer='adam', loss='categorical_crossentropy', metrics=['accuracy'])\n",
        "\n",
        "datagen = ImageDataGenerator(width_shift_range=0.1, height_shift_range=0.1, horizontal_flip=True,rotation_range=20)\n",
        "it_train = datagen.flow(x_train,y_train_cat)\n",
        "steps = int(x_train.shape[0] / 64)\n",
        "history7=model7.fit_generator(it_train,epochs=200,steps_per_epoch=steps,validation_data=(x_test,y_test_cat))\n",
        "\n"
      ],
      "metadata": {
        "id": "iCO6hymxELDN",
        "colab": {
          "base_uri": "https://localhost:8080/"
        },
        "outputId": "71a3804c-f857-4a54-f84c-eeb254471333"
      },
      "execution_count": 31,
      "outputs": [
        {
          "metadata": {
            "tags": null
          },
          "name": "stdout",
          "output_type": "stream",
          "text": [
            "Epoch 1/200\n"
          ]
        },
        {
          "metadata": {
            "tags": null
          },
          "name": "stderr",
          "output_type": "stream",
          "text": [
            "/usr/local/lib/python3.7/dist-packages/ipykernel_launcher.py:50: UserWarning: `Model.fit_generator` is deprecated and will be removed in a future version. Please use `Model.fit`, which supports generators.\n"
          ]
        },
        {
          "output_type": "stream",
          "name": "stdout",
          "text": [
            "781/781 [==============================] - 21s 25ms/step - loss: 2.1303 - accuracy: 0.2683 - val_loss: 1.7063 - val_accuracy: 0.3954\n",
            "Epoch 2/200\n",
            "781/781 [==============================] - 18s 23ms/step - loss: 1.5831 - accuracy: 0.4282 - val_loss: 1.5488 - val_accuracy: 0.4719\n",
            "Epoch 3/200\n",
            "781/781 [==============================] - 18s 23ms/step - loss: 1.3958 - accuracy: 0.5032 - val_loss: 1.5554 - val_accuracy: 0.5104\n",
            "Epoch 4/200\n",
            "781/781 [==============================] - 18s 23ms/step - loss: 1.2761 - accuracy: 0.5514 - val_loss: 1.1623 - val_accuracy: 0.5995\n",
            "Epoch 5/200\n",
            "781/781 [==============================] - 19s 25ms/step - loss: 1.1818 - accuracy: 0.5874 - val_loss: 1.1620 - val_accuracy: 0.6120\n",
            "Epoch 6/200\n",
            "781/781 [==============================] - 18s 23ms/step - loss: 1.1043 - accuracy: 0.6193 - val_loss: 1.0428 - val_accuracy: 0.6501\n",
            "Epoch 7/200\n",
            "781/781 [==============================] - 19s 24ms/step - loss: 1.0473 - accuracy: 0.6451 - val_loss: 0.8674 - val_accuracy: 0.7070\n",
            "Epoch 8/200\n",
            "781/781 [==============================] - 19s 24ms/step - loss: 0.9879 - accuracy: 0.6655 - val_loss: 0.8495 - val_accuracy: 0.7090\n",
            "Epoch 9/200\n",
            "781/781 [==============================] - 19s 25ms/step - loss: 0.9477 - accuracy: 0.6821 - val_loss: 0.8475 - val_accuracy: 0.7122\n",
            "Epoch 10/200\n",
            "781/781 [==============================] - 18s 23ms/step - loss: 0.9202 - accuracy: 0.6866 - val_loss: 0.8688 - val_accuracy: 0.7064\n",
            "Epoch 11/200\n",
            "781/781 [==============================] - 19s 25ms/step - loss: 0.8916 - accuracy: 0.7016 - val_loss: 0.8900 - val_accuracy: 0.7081\n",
            "Epoch 12/200\n",
            "781/781 [==============================] - 18s 24ms/step - loss: 0.8465 - accuracy: 0.7165 - val_loss: 0.7302 - val_accuracy: 0.7582\n",
            "Epoch 13/200\n",
            "781/781 [==============================] - 19s 24ms/step - loss: 0.8297 - accuracy: 0.7227 - val_loss: 0.7801 - val_accuracy: 0.7396\n",
            "Epoch 14/200\n",
            "781/781 [==============================] - 18s 23ms/step - loss: 0.8030 - accuracy: 0.7348 - val_loss: 0.6659 - val_accuracy: 0.7744\n",
            "Epoch 15/200\n",
            "781/781 [==============================] - 18s 23ms/step - loss: 0.7821 - accuracy: 0.7394 - val_loss: 0.6996 - val_accuracy: 0.7719\n",
            "Epoch 16/200\n",
            "781/781 [==============================] - 19s 25ms/step - loss: 0.7617 - accuracy: 0.7472 - val_loss: 0.6251 - val_accuracy: 0.7897\n",
            "Epoch 17/200\n",
            "781/781 [==============================] - 18s 23ms/step - loss: 0.7560 - accuracy: 0.7508 - val_loss: 0.7004 - val_accuracy: 0.7582\n",
            "Epoch 18/200\n",
            "781/781 [==============================] - 19s 25ms/step - loss: 0.7367 - accuracy: 0.7526 - val_loss: 0.5813 - val_accuracy: 0.8071\n",
            "Epoch 19/200\n",
            "781/781 [==============================] - 18s 23ms/step - loss: 0.7140 - accuracy: 0.7634 - val_loss: 0.5931 - val_accuracy: 0.7998\n",
            "Epoch 20/200\n",
            "781/781 [==============================] - 18s 23ms/step - loss: 0.7025 - accuracy: 0.7670 - val_loss: 0.5750 - val_accuracy: 0.8067\n",
            "Epoch 21/200\n",
            "781/781 [==============================] - 19s 25ms/step - loss: 0.6970 - accuracy: 0.7682 - val_loss: 0.5859 - val_accuracy: 0.8058\n",
            "Epoch 22/200\n",
            "781/781 [==============================] - 19s 25ms/step - loss: 0.6874 - accuracy: 0.7733 - val_loss: 0.7053 - val_accuracy: 0.7738\n",
            "Epoch 23/200\n",
            "781/781 [==============================] - 18s 23ms/step - loss: 0.6850 - accuracy: 0.7713 - val_loss: 0.5694 - val_accuracy: 0.8076\n",
            "Epoch 24/200\n",
            "781/781 [==============================] - 19s 25ms/step - loss: 0.6727 - accuracy: 0.7783 - val_loss: 0.6153 - val_accuracy: 0.7927\n",
            "Epoch 25/200\n",
            "781/781 [==============================] - 20s 26ms/step - loss: 0.6602 - accuracy: 0.7804 - val_loss: 0.5452 - val_accuracy: 0.8150\n",
            "Epoch 26/200\n",
            "781/781 [==============================] - 18s 24ms/step - loss: 0.6450 - accuracy: 0.7877 - val_loss: 0.5659 - val_accuracy: 0.8099\n",
            "Epoch 27/200\n",
            "781/781 [==============================] - 18s 24ms/step - loss: 0.6366 - accuracy: 0.7867 - val_loss: 0.5796 - val_accuracy: 0.8071\n",
            "Epoch 28/200\n",
            "781/781 [==============================] - 18s 23ms/step - loss: 0.6299 - accuracy: 0.7908 - val_loss: 0.5982 - val_accuracy: 0.8002\n",
            "Epoch 29/200\n",
            "781/781 [==============================] - 18s 23ms/step - loss: 0.6269 - accuracy: 0.7910 - val_loss: 0.6110 - val_accuracy: 0.7933\n",
            "Epoch 30/200\n",
            "781/781 [==============================] - 19s 24ms/step - loss: 0.6235 - accuracy: 0.7940 - val_loss: 0.5223 - val_accuracy: 0.8272\n",
            "Epoch 31/200\n",
            "781/781 [==============================] - 20s 25ms/step - loss: 0.6152 - accuracy: 0.7965 - val_loss: 0.5437 - val_accuracy: 0.8208\n",
            "Epoch 32/200\n",
            "781/781 [==============================] - 20s 25ms/step - loss: 0.6088 - accuracy: 0.7995 - val_loss: 0.6148 - val_accuracy: 0.7931\n",
            "Epoch 33/200\n",
            "781/781 [==============================] - 18s 23ms/step - loss: 0.5999 - accuracy: 0.8026 - val_loss: 0.5306 - val_accuracy: 0.8206\n",
            "Epoch 34/200\n",
            "781/781 [==============================] - 19s 25ms/step - loss: 0.5947 - accuracy: 0.8010 - val_loss: 0.5078 - val_accuracy: 0.8297\n",
            "Epoch 35/200\n",
            "781/781 [==============================] - 18s 23ms/step - loss: 0.5801 - accuracy: 0.8049 - val_loss: 0.4968 - val_accuracy: 0.8331\n",
            "Epoch 36/200\n",
            "781/781 [==============================] - 18s 23ms/step - loss: 0.5822 - accuracy: 0.8075 - val_loss: 0.4538 - val_accuracy: 0.8455\n",
            "Epoch 37/200\n",
            "781/781 [==============================] - 19s 24ms/step - loss: 0.5768 - accuracy: 0.8082 - val_loss: 0.5682 - val_accuracy: 0.8149\n",
            "Epoch 38/200\n",
            "781/781 [==============================] - 18s 23ms/step - loss: 0.5680 - accuracy: 0.8141 - val_loss: 0.5078 - val_accuracy: 0.8312\n",
            "Epoch 39/200\n",
            "781/781 [==============================] - 18s 23ms/step - loss: 0.5656 - accuracy: 0.8132 - val_loss: 0.4873 - val_accuracy: 0.8378\n",
            "Epoch 40/200\n",
            "781/781 [==============================] - 19s 25ms/step - loss: 0.5710 - accuracy: 0.8105 - val_loss: 0.4670 - val_accuracy: 0.8437\n",
            "Epoch 41/200\n",
            "781/781 [==============================] - 18s 23ms/step - loss: 0.5605 - accuracy: 0.8158 - val_loss: 0.5225 - val_accuracy: 0.8274\n",
            "Epoch 42/200\n",
            "781/781 [==============================] - 18s 23ms/step - loss: 0.5534 - accuracy: 0.8179 - val_loss: 0.4785 - val_accuracy: 0.8374\n",
            "Epoch 43/200\n",
            "781/781 [==============================] - 18s 23ms/step - loss: 0.5368 - accuracy: 0.8191 - val_loss: 0.4997 - val_accuracy: 0.8352\n",
            "Epoch 44/200\n",
            "781/781 [==============================] - 18s 23ms/step - loss: 0.5397 - accuracy: 0.8193 - val_loss: 0.4926 - val_accuracy: 0.8376\n",
            "Epoch 45/200\n",
            "781/781 [==============================] - 20s 25ms/step - loss: 0.5331 - accuracy: 0.8242 - val_loss: 0.5083 - val_accuracy: 0.8300\n",
            "Epoch 46/200\n",
            "781/781 [==============================] - 18s 24ms/step - loss: 0.5317 - accuracy: 0.8231 - val_loss: 0.4364 - val_accuracy: 0.8516\n",
            "Epoch 47/200\n",
            "781/781 [==============================] - 20s 25ms/step - loss: 0.5303 - accuracy: 0.8228 - val_loss: 0.4935 - val_accuracy: 0.8366\n",
            "Epoch 48/200\n",
            "781/781 [==============================] - 18s 24ms/step - loss: 0.5232 - accuracy: 0.8257 - val_loss: 0.4357 - val_accuracy: 0.8547\n",
            "Epoch 49/200\n",
            "781/781 [==============================] - 20s 26ms/step - loss: 0.5272 - accuracy: 0.8244 - val_loss: 0.4234 - val_accuracy: 0.8580\n",
            "Epoch 50/200\n",
            "781/781 [==============================] - 19s 25ms/step - loss: 0.5126 - accuracy: 0.8304 - val_loss: 0.4527 - val_accuracy: 0.8540\n",
            "Epoch 51/200\n",
            "781/781 [==============================] - 19s 25ms/step - loss: 0.5111 - accuracy: 0.8319 - val_loss: 0.4882 - val_accuracy: 0.8393\n",
            "Epoch 52/200\n",
            "781/781 [==============================] - 18s 23ms/step - loss: 0.5116 - accuracy: 0.8307 - val_loss: 0.4648 - val_accuracy: 0.8485\n",
            "Epoch 53/200\n",
            "781/781 [==============================] - 19s 25ms/step - loss: 0.5117 - accuracy: 0.8302 - val_loss: 0.4114 - val_accuracy: 0.8613\n",
            "Epoch 54/200\n",
            "781/781 [==============================] - 18s 23ms/step - loss: 0.5019 - accuracy: 0.8349 - val_loss: 0.5161 - val_accuracy: 0.8285\n",
            "Epoch 55/200\n",
            "781/781 [==============================] - 18s 23ms/step - loss: 0.4992 - accuracy: 0.8331 - val_loss: 0.4752 - val_accuracy: 0.8418\n",
            "Epoch 56/200\n",
            "781/781 [==============================] - 18s 23ms/step - loss: 0.5048 - accuracy: 0.8327 - val_loss: 0.4446 - val_accuracy: 0.8478\n",
            "Epoch 57/200\n",
            "781/781 [==============================] - 18s 23ms/step - loss: 0.5037 - accuracy: 0.8319 - val_loss: 0.3961 - val_accuracy: 0.8663\n",
            "Epoch 58/200\n",
            "781/781 [==============================] - 18s 23ms/step - loss: 0.4921 - accuracy: 0.8346 - val_loss: 0.4336 - val_accuracy: 0.8579\n",
            "Epoch 59/200\n",
            "781/781 [==============================] - 18s 23ms/step - loss: 0.4888 - accuracy: 0.8388 - val_loss: 0.4316 - val_accuracy: 0.8595\n",
            "Epoch 60/200\n",
            "781/781 [==============================] - 19s 25ms/step - loss: 0.4787 - accuracy: 0.8400 - val_loss: 0.4113 - val_accuracy: 0.8648\n",
            "Epoch 61/200\n",
            "781/781 [==============================] - 19s 24ms/step - loss: 0.4840 - accuracy: 0.8399 - val_loss: 0.3839 - val_accuracy: 0.8701\n",
            "Epoch 62/200\n",
            "781/781 [==============================] - 18s 23ms/step - loss: 0.4812 - accuracy: 0.8410 - val_loss: 0.4113 - val_accuracy: 0.8622\n",
            "Epoch 63/200\n",
            "781/781 [==============================] - 18s 23ms/step - loss: 0.4778 - accuracy: 0.8419 - val_loss: 0.4412 - val_accuracy: 0.8517\n",
            "Epoch 64/200\n",
            "781/781 [==============================] - 18s 23ms/step - loss: 0.4808 - accuracy: 0.8404 - val_loss: 0.4481 - val_accuracy: 0.8547\n",
            "Epoch 65/200\n",
            "781/781 [==============================] - 19s 25ms/step - loss: 0.4676 - accuracy: 0.8437 - val_loss: 0.4634 - val_accuracy: 0.8466\n",
            "Epoch 66/200\n",
            "781/781 [==============================] - 19s 25ms/step - loss: 0.4659 - accuracy: 0.8428 - val_loss: 0.4674 - val_accuracy: 0.8469\n",
            "Epoch 67/200\n",
            "781/781 [==============================] - 18s 23ms/step - loss: 0.4715 - accuracy: 0.8466 - val_loss: 0.4353 - val_accuracy: 0.8570\n",
            "Epoch 68/200\n",
            "781/781 [==============================] - 19s 24ms/step - loss: 0.4719 - accuracy: 0.8422 - val_loss: 0.4025 - val_accuracy: 0.8675\n",
            "Epoch 69/200\n",
            "781/781 [==============================] - 19s 24ms/step - loss: 0.4651 - accuracy: 0.8475 - val_loss: 0.4084 - val_accuracy: 0.8640\n",
            "Epoch 70/200\n",
            "781/781 [==============================] - 18s 23ms/step - loss: 0.4616 - accuracy: 0.8463 - val_loss: 0.3898 - val_accuracy: 0.8703\n",
            "Epoch 71/200\n",
            "781/781 [==============================] - 19s 24ms/step - loss: 0.4635 - accuracy: 0.8482 - val_loss: 0.4534 - val_accuracy: 0.8485\n",
            "Epoch 72/200\n",
            "781/781 [==============================] - 19s 24ms/step - loss: 0.4605 - accuracy: 0.8457 - val_loss: 0.4029 - val_accuracy: 0.8664\n",
            "Epoch 73/200\n",
            "781/781 [==============================] - 18s 23ms/step - loss: 0.4524 - accuracy: 0.8489 - val_loss: 0.4445 - val_accuracy: 0.8561\n",
            "Epoch 74/200\n",
            "781/781 [==============================] - 19s 25ms/step - loss: 0.4462 - accuracy: 0.8534 - val_loss: 0.4093 - val_accuracy: 0.8619\n",
            "Epoch 75/200\n",
            "781/781 [==============================] - 18s 23ms/step - loss: 0.4529 - accuracy: 0.8517 - val_loss: 0.3997 - val_accuracy: 0.8646\n",
            "Epoch 76/200\n",
            "781/781 [==============================] - 19s 25ms/step - loss: 0.4414 - accuracy: 0.8507 - val_loss: 0.4050 - val_accuracy: 0.8670\n",
            "Epoch 77/200\n",
            "781/781 [==============================] - 18s 23ms/step - loss: 0.4494 - accuracy: 0.8491 - val_loss: 0.4278 - val_accuracy: 0.8591\n",
            "Epoch 78/200\n",
            "781/781 [==============================] - 18s 23ms/step - loss: 0.4414 - accuracy: 0.8516 - val_loss: 0.3806 - val_accuracy: 0.8711\n",
            "Epoch 79/200\n",
            "781/781 [==============================] - 19s 25ms/step - loss: 0.4398 - accuracy: 0.8532 - val_loss: 0.4036 - val_accuracy: 0.8671\n",
            "Epoch 80/200\n",
            "781/781 [==============================] - 18s 23ms/step - loss: 0.4407 - accuracy: 0.8537 - val_loss: 0.4400 - val_accuracy: 0.8559\n",
            "Epoch 81/200\n",
            "781/781 [==============================] - 19s 25ms/step - loss: 0.4275 - accuracy: 0.8581 - val_loss: 0.3894 - val_accuracy: 0.8727\n",
            "Epoch 82/200\n",
            "781/781 [==============================] - 19s 25ms/step - loss: 0.4422 - accuracy: 0.8512 - val_loss: 0.3957 - val_accuracy: 0.8668\n",
            "Epoch 83/200\n",
            "781/781 [==============================] - 18s 23ms/step - loss: 0.4365 - accuracy: 0.8565 - val_loss: 0.3853 - val_accuracy: 0.8723\n",
            "Epoch 84/200\n",
            "781/781 [==============================] - 18s 24ms/step - loss: 0.4283 - accuracy: 0.8576 - val_loss: 0.3886 - val_accuracy: 0.8713\n",
            "Epoch 85/200\n",
            "781/781 [==============================] - 18s 23ms/step - loss: 0.4271 - accuracy: 0.8582 - val_loss: 0.4213 - val_accuracy: 0.8619\n",
            "Epoch 86/200\n",
            "781/781 [==============================] - 18s 23ms/step - loss: 0.4269 - accuracy: 0.8571 - val_loss: 0.3959 - val_accuracy: 0.8706\n",
            "Epoch 87/200\n",
            "781/781 [==============================] - 19s 25ms/step - loss: 0.4233 - accuracy: 0.8590 - val_loss: 0.3966 - val_accuracy: 0.8708\n",
            "Epoch 88/200\n",
            "781/781 [==============================] - 18s 23ms/step - loss: 0.4215 - accuracy: 0.8620 - val_loss: 0.3574 - val_accuracy: 0.8818\n",
            "Epoch 89/200\n",
            "781/781 [==============================] - 18s 23ms/step - loss: 0.4223 - accuracy: 0.8603 - val_loss: 0.3916 - val_accuracy: 0.8708\n",
            "Epoch 90/200\n",
            "781/781 [==============================] - 19s 25ms/step - loss: 0.4222 - accuracy: 0.8586 - val_loss: 0.3794 - val_accuracy: 0.8742\n",
            "Epoch 91/200\n",
            "781/781 [==============================] - 18s 23ms/step - loss: 0.4151 - accuracy: 0.8604 - val_loss: 0.4357 - val_accuracy: 0.8599\n",
            "Epoch 92/200\n",
            "781/781 [==============================] - 19s 25ms/step - loss: 0.4092 - accuracy: 0.8634 - val_loss: 0.4926 - val_accuracy: 0.8424\n",
            "Epoch 93/200\n",
            "781/781 [==============================] - 19s 25ms/step - loss: 0.4201 - accuracy: 0.8613 - val_loss: 0.3850 - val_accuracy: 0.8727\n",
            "Epoch 94/200\n",
            "781/781 [==============================] - 19s 25ms/step - loss: 0.4079 - accuracy: 0.8646 - val_loss: 0.4197 - val_accuracy: 0.8600\n",
            "Epoch 95/200\n",
            "781/781 [==============================] - 19s 25ms/step - loss: 0.4132 - accuracy: 0.8625 - val_loss: 0.3940 - val_accuracy: 0.8682\n",
            "Epoch 96/200\n",
            "781/781 [==============================] - 19s 24ms/step - loss: 0.4111 - accuracy: 0.8616 - val_loss: 0.3966 - val_accuracy: 0.8697\n",
            "Epoch 97/200\n",
            "781/781 [==============================] - 19s 25ms/step - loss: 0.4151 - accuracy: 0.8625 - val_loss: 0.3734 - val_accuracy: 0.8750\n",
            "Epoch 98/200\n",
            "781/781 [==============================] - 19s 25ms/step - loss: 0.4013 - accuracy: 0.8668 - val_loss: 0.3587 - val_accuracy: 0.8842\n",
            "Epoch 99/200\n",
            "781/781 [==============================] - 19s 25ms/step - loss: 0.4098 - accuracy: 0.8654 - val_loss: 0.3825 - val_accuracy: 0.8737\n",
            "Epoch 100/200\n",
            "781/781 [==============================] - 20s 25ms/step - loss: 0.4103 - accuracy: 0.8617 - val_loss: 0.4136 - val_accuracy: 0.8674\n",
            "Epoch 101/200\n",
            "781/781 [==============================] - 18s 23ms/step - loss: 0.3996 - accuracy: 0.8690 - val_loss: 0.3687 - val_accuracy: 0.8766\n",
            "Epoch 102/200\n",
            "781/781 [==============================] - 18s 23ms/step - loss: 0.3937 - accuracy: 0.8652 - val_loss: 0.3644 - val_accuracy: 0.8806\n",
            "Epoch 103/200\n",
            "781/781 [==============================] - 20s 25ms/step - loss: 0.4085 - accuracy: 0.8630 - val_loss: 0.3700 - val_accuracy: 0.8766\n",
            "Epoch 104/200\n",
            "781/781 [==============================] - 20s 25ms/step - loss: 0.3968 - accuracy: 0.8668 - val_loss: 0.4195 - val_accuracy: 0.8640\n",
            "Epoch 105/200\n",
            "781/781 [==============================] - 18s 23ms/step - loss: 0.3905 - accuracy: 0.8697 - val_loss: 0.4156 - val_accuracy: 0.8667\n",
            "Epoch 106/200\n",
            "781/781 [==============================] - 18s 23ms/step - loss: 0.3951 - accuracy: 0.8692 - val_loss: 0.3905 - val_accuracy: 0.8734\n",
            "Epoch 107/200\n",
            "781/781 [==============================] - 18s 23ms/step - loss: 0.3861 - accuracy: 0.8732 - val_loss: 0.3543 - val_accuracy: 0.8846\n",
            "Epoch 108/200\n",
            "781/781 [==============================] - 20s 26ms/step - loss: 0.3881 - accuracy: 0.8702 - val_loss: 0.3940 - val_accuracy: 0.8712\n",
            "Epoch 109/200\n",
            "781/781 [==============================] - 18s 23ms/step - loss: 0.3939 - accuracy: 0.8700 - val_loss: 0.3889 - val_accuracy: 0.8739\n",
            "Epoch 110/200\n",
            "781/781 [==============================] - 18s 23ms/step - loss: 0.3983 - accuracy: 0.8669 - val_loss: 0.3657 - val_accuracy: 0.8784\n",
            "Epoch 111/200\n",
            "781/781 [==============================] - 18s 23ms/step - loss: 0.3915 - accuracy: 0.8700 - val_loss: 0.4016 - val_accuracy: 0.8668\n",
            "Epoch 112/200\n",
            "781/781 [==============================] - 18s 24ms/step - loss: 0.3860 - accuracy: 0.8736 - val_loss: 0.4137 - val_accuracy: 0.8665\n",
            "Epoch 113/200\n",
            "781/781 [==============================] - 20s 25ms/step - loss: 0.3917 - accuracy: 0.8690 - val_loss: 0.3747 - val_accuracy: 0.8774\n",
            "Epoch 114/200\n",
            "781/781 [==============================] - 18s 23ms/step - loss: 0.3856 - accuracy: 0.8695 - val_loss: 0.3671 - val_accuracy: 0.8781\n",
            "Epoch 115/200\n",
            "781/781 [==============================] - 20s 25ms/step - loss: 0.3836 - accuracy: 0.8717 - val_loss: 0.4247 - val_accuracy: 0.8614\n",
            "Epoch 116/200\n",
            "781/781 [==============================] - 20s 25ms/step - loss: 0.3788 - accuracy: 0.8748 - val_loss: 0.4258 - val_accuracy: 0.8630\n",
            "Epoch 117/200\n",
            "781/781 [==============================] - 18s 23ms/step - loss: 0.3808 - accuracy: 0.8706 - val_loss: 0.3963 - val_accuracy: 0.8732\n",
            "Epoch 118/200\n",
            "781/781 [==============================] - 18s 23ms/step - loss: 0.3814 - accuracy: 0.8692 - val_loss: 0.3710 - val_accuracy: 0.8781\n",
            "Epoch 119/200\n",
            "781/781 [==============================] - 20s 25ms/step - loss: 0.3751 - accuracy: 0.8752 - val_loss: 0.3868 - val_accuracy: 0.8756\n",
            "Epoch 120/200\n",
            "781/781 [==============================] - 20s 26ms/step - loss: 0.3751 - accuracy: 0.8738 - val_loss: 0.3993 - val_accuracy: 0.8670\n",
            "Epoch 121/200\n",
            "781/781 [==============================] - 18s 23ms/step - loss: 0.3682 - accuracy: 0.8757 - val_loss: 0.3478 - val_accuracy: 0.8855\n",
            "Epoch 122/200\n",
            "781/781 [==============================] - 19s 25ms/step - loss: 0.3692 - accuracy: 0.8768 - val_loss: 0.3613 - val_accuracy: 0.8803\n",
            "Epoch 123/200\n",
            "781/781 [==============================] - 19s 25ms/step - loss: 0.3780 - accuracy: 0.8735 - val_loss: 0.4120 - val_accuracy: 0.8702\n",
            "Epoch 124/200\n",
            "781/781 [==============================] - 18s 24ms/step - loss: 0.3650 - accuracy: 0.8812 - val_loss: 0.3240 - val_accuracy: 0.8897\n",
            "Epoch 125/200\n",
            "781/781 [==============================] - 19s 25ms/step - loss: 0.3690 - accuracy: 0.8795 - val_loss: 0.3764 - val_accuracy: 0.8732\n",
            "Epoch 126/200\n",
            "781/781 [==============================] - 19s 25ms/step - loss: 0.3648 - accuracy: 0.8758 - val_loss: 0.3791 - val_accuracy: 0.8788\n",
            "Epoch 127/200\n",
            "781/781 [==============================] - 18s 23ms/step - loss: 0.3725 - accuracy: 0.8776 - val_loss: 0.3625 - val_accuracy: 0.8798\n",
            "Epoch 128/200\n",
            "781/781 [==============================] - 20s 25ms/step - loss: 0.3622 - accuracy: 0.8799 - val_loss: 0.3712 - val_accuracy: 0.8785\n",
            "Epoch 129/200\n",
            "781/781 [==============================] - 19s 25ms/step - loss: 0.3657 - accuracy: 0.8808 - val_loss: 0.3981 - val_accuracy: 0.8701\n",
            "Epoch 130/200\n",
            "781/781 [==============================] - 18s 23ms/step - loss: 0.3620 - accuracy: 0.8793 - val_loss: 0.3642 - val_accuracy: 0.8800\n",
            "Epoch 131/200\n",
            "781/781 [==============================] - 18s 23ms/step - loss: 0.3700 - accuracy: 0.8771 - val_loss: 0.3470 - val_accuracy: 0.8841\n",
            "Epoch 132/200\n",
            "781/781 [==============================] - 19s 24ms/step - loss: 0.3619 - accuracy: 0.8780 - val_loss: 0.3763 - val_accuracy: 0.8735\n",
            "Epoch 133/200\n",
            "781/781 [==============================] - 20s 25ms/step - loss: 0.3619 - accuracy: 0.8787 - val_loss: 0.3855 - val_accuracy: 0.8757\n",
            "Epoch 134/200\n",
            "781/781 [==============================] - 20s 25ms/step - loss: 0.3638 - accuracy: 0.8797 - val_loss: 0.3487 - val_accuracy: 0.8853\n",
            "Epoch 135/200\n",
            "781/781 [==============================] - 19s 25ms/step - loss: 0.3584 - accuracy: 0.8784 - val_loss: 0.4165 - val_accuracy: 0.8659\n",
            "Epoch 136/200\n",
            "781/781 [==============================] - 20s 25ms/step - loss: 0.3609 - accuracy: 0.8792 - val_loss: 0.3586 - val_accuracy: 0.8812\n",
            "Epoch 137/200\n",
            "781/781 [==============================] - 18s 23ms/step - loss: 0.3586 - accuracy: 0.8782 - val_loss: 0.3809 - val_accuracy: 0.8740\n",
            "Epoch 138/200\n",
            "781/781 [==============================] - 18s 23ms/step - loss: 0.3490 - accuracy: 0.8827 - val_loss: 0.3547 - val_accuracy: 0.8818\n",
            "Epoch 139/200\n",
            "781/781 [==============================] - 18s 24ms/step - loss: 0.3596 - accuracy: 0.8808 - val_loss: 0.3770 - val_accuracy: 0.8761\n",
            "Epoch 140/200\n",
            "781/781 [==============================] - 20s 25ms/step - loss: 0.3530 - accuracy: 0.8830 - val_loss: 0.3403 - val_accuracy: 0.8890\n",
            "Epoch 141/200\n",
            "781/781 [==============================] - 18s 23ms/step - loss: 0.3572 - accuracy: 0.8801 - val_loss: 0.3303 - val_accuracy: 0.8902\n",
            "Epoch 142/200\n",
            "781/781 [==============================] - 19s 25ms/step - loss: 0.3553 - accuracy: 0.8789 - val_loss: 0.3455 - val_accuracy: 0.8873\n",
            "Epoch 143/200\n",
            "781/781 [==============================] - 19s 25ms/step - loss: 0.3471 - accuracy: 0.8828 - val_loss: 0.3805 - val_accuracy: 0.8754\n",
            "Epoch 144/200\n",
            "781/781 [==============================] - 20s 25ms/step - loss: 0.3468 - accuracy: 0.8817 - val_loss: 0.3555 - val_accuracy: 0.8844\n",
            "Epoch 145/200\n",
            "781/781 [==============================] - 18s 23ms/step - loss: 0.3495 - accuracy: 0.8853 - val_loss: 0.3933 - val_accuracy: 0.8725\n",
            "Epoch 146/200\n",
            "781/781 [==============================] - 19s 25ms/step - loss: 0.3501 - accuracy: 0.8831 - val_loss: 0.3418 - val_accuracy: 0.8860\n",
            "Epoch 147/200\n",
            "781/781 [==============================] - 20s 25ms/step - loss: 0.3463 - accuracy: 0.8835 - val_loss: 0.3776 - val_accuracy: 0.8788\n",
            "Epoch 148/200\n",
            "781/781 [==============================] - 18s 23ms/step - loss: 0.3433 - accuracy: 0.8843 - val_loss: 0.3787 - val_accuracy: 0.8800\n",
            "Epoch 149/200\n",
            "781/781 [==============================] - 19s 24ms/step - loss: 0.3496 - accuracy: 0.8817 - val_loss: 0.3549 - val_accuracy: 0.8836\n",
            "Epoch 150/200\n",
            "781/781 [==============================] - 19s 25ms/step - loss: 0.3443 - accuracy: 0.8850 - val_loss: 0.3771 - val_accuracy: 0.8787\n",
            "Epoch 151/200\n",
            "781/781 [==============================] - 20s 25ms/step - loss: 0.3434 - accuracy: 0.8856 - val_loss: 0.3880 - val_accuracy: 0.8777\n",
            "Epoch 152/200\n",
            "781/781 [==============================] - 18s 23ms/step - loss: 0.3416 - accuracy: 0.8839 - val_loss: 0.3537 - val_accuracy: 0.8838\n",
            "Epoch 153/200\n",
            "781/781 [==============================] - 19s 24ms/step - loss: 0.3346 - accuracy: 0.8863 - val_loss: 0.3587 - val_accuracy: 0.8846\n",
            "Epoch 154/200\n",
            "781/781 [==============================] - 18s 24ms/step - loss: 0.3411 - accuracy: 0.8875 - val_loss: 0.3644 - val_accuracy: 0.8814\n",
            "Epoch 155/200\n",
            "781/781 [==============================] - 20s 26ms/step - loss: 0.3355 - accuracy: 0.8891 - val_loss: 0.3655 - val_accuracy: 0.8838\n",
            "Epoch 156/200\n",
            "781/781 [==============================] - 20s 25ms/step - loss: 0.3289 - accuracy: 0.8917 - val_loss: 0.4614 - val_accuracy: 0.8578\n",
            "Epoch 157/200\n",
            "781/781 [==============================] - 20s 25ms/step - loss: 0.3392 - accuracy: 0.8883 - val_loss: 0.3802 - val_accuracy: 0.8756\n",
            "Epoch 158/200\n",
            "781/781 [==============================] - 18s 23ms/step - loss: 0.3302 - accuracy: 0.8881 - val_loss: 0.3673 - val_accuracy: 0.8811\n",
            "Epoch 159/200\n",
            "781/781 [==============================] - 19s 24ms/step - loss: 0.3312 - accuracy: 0.8897 - val_loss: 0.3358 - val_accuracy: 0.8944\n",
            "Epoch 160/200\n",
            "781/781 [==============================] - 18s 24ms/step - loss: 0.3368 - accuracy: 0.8855 - val_loss: 0.3207 - val_accuracy: 0.8936\n",
            "Epoch 161/200\n",
            "781/781 [==============================] - 18s 24ms/step - loss: 0.3342 - accuracy: 0.8876 - val_loss: 0.3529 - val_accuracy: 0.8871\n",
            "Epoch 162/200\n",
            "781/781 [==============================] - 19s 25ms/step - loss: 0.3320 - accuracy: 0.8904 - val_loss: 0.3431 - val_accuracy: 0.8896\n",
            "Epoch 163/200\n",
            "781/781 [==============================] - 18s 23ms/step - loss: 0.3334 - accuracy: 0.8870 - val_loss: 0.3537 - val_accuracy: 0.8871\n",
            "Epoch 164/200\n",
            "781/781 [==============================] - 18s 23ms/step - loss: 0.3389 - accuracy: 0.8871 - val_loss: 0.3586 - val_accuracy: 0.8832\n",
            "Epoch 165/200\n",
            "781/781 [==============================] - 20s 25ms/step - loss: 0.3322 - accuracy: 0.8890 - val_loss: 0.3470 - val_accuracy: 0.8866\n",
            "Epoch 166/200\n",
            "781/781 [==============================] - 18s 23ms/step - loss: 0.3375 - accuracy: 0.8872 - val_loss: 0.3254 - val_accuracy: 0.8926\n",
            "Epoch 167/200\n",
            "781/781 [==============================] - 19s 24ms/step - loss: 0.3318 - accuracy: 0.8891 - val_loss: 0.3450 - val_accuracy: 0.8889\n",
            "Epoch 168/200\n",
            "781/781 [==============================] - 18s 23ms/step - loss: 0.3319 - accuracy: 0.8871 - val_loss: 0.3910 - val_accuracy: 0.8754\n",
            "Epoch 169/200\n",
            "781/781 [==============================] - 19s 25ms/step - loss: 0.3346 - accuracy: 0.8884 - val_loss: 0.3310 - val_accuracy: 0.8925\n",
            "Epoch 170/200\n",
            "781/781 [==============================] - 20s 25ms/step - loss: 0.3327 - accuracy: 0.8902 - val_loss: 0.3430 - val_accuracy: 0.8913\n",
            "Epoch 171/200\n",
            "781/781 [==============================] - 20s 25ms/step - loss: 0.3262 - accuracy: 0.8888 - val_loss: 0.3508 - val_accuracy: 0.8852\n",
            "Epoch 172/200\n",
            "781/781 [==============================] - 18s 23ms/step - loss: 0.3176 - accuracy: 0.8931 - val_loss: 0.3367 - val_accuracy: 0.8901\n",
            "Epoch 173/200\n",
            "781/781 [==============================] - 18s 24ms/step - loss: 0.3365 - accuracy: 0.8885 - val_loss: 0.3668 - val_accuracy: 0.8821\n",
            "Epoch 174/200\n",
            "781/781 [==============================] - 18s 23ms/step - loss: 0.3210 - accuracy: 0.8908 - val_loss: 0.3604 - val_accuracy: 0.8840\n",
            "Epoch 175/200\n",
            "781/781 [==============================] - 18s 23ms/step - loss: 0.3263 - accuracy: 0.8898 - val_loss: 0.3795 - val_accuracy: 0.8773\n",
            "Epoch 176/200\n",
            "781/781 [==============================] - 20s 25ms/step - loss: 0.3230 - accuracy: 0.8910 - val_loss: 0.3656 - val_accuracy: 0.8846\n",
            "Epoch 177/200\n",
            "781/781 [==============================] - 18s 23ms/step - loss: 0.3250 - accuracy: 0.8917 - val_loss: 0.3181 - val_accuracy: 0.8948\n",
            "Epoch 178/200\n",
            "781/781 [==============================] - 18s 23ms/step - loss: 0.3219 - accuracy: 0.8920 - val_loss: 0.3593 - val_accuracy: 0.8839\n",
            "Epoch 179/200\n",
            "781/781 [==============================] - 19s 24ms/step - loss: 0.3256 - accuracy: 0.8919 - val_loss: 0.3574 - val_accuracy: 0.8857\n",
            "Epoch 180/200\n",
            "781/781 [==============================] - 18s 23ms/step - loss: 0.3240 - accuracy: 0.8914 - val_loss: 0.3417 - val_accuracy: 0.8904\n",
            "Epoch 181/200\n",
            "781/781 [==============================] - 20s 25ms/step - loss: 0.3110 - accuracy: 0.8944 - val_loss: 0.3491 - val_accuracy: 0.8861\n",
            "Epoch 182/200\n",
            "781/781 [==============================] - 18s 24ms/step - loss: 0.3184 - accuracy: 0.8927 - val_loss: 0.3591 - val_accuracy: 0.8867\n",
            "Epoch 183/200\n",
            "781/781 [==============================] - 20s 25ms/step - loss: 0.3231 - accuracy: 0.8903 - val_loss: 0.3690 - val_accuracy: 0.8825\n",
            "Epoch 184/200\n",
            "781/781 [==============================] - 18s 24ms/step - loss: 0.3076 - accuracy: 0.8966 - val_loss: 0.3629 - val_accuracy: 0.8857\n",
            "Epoch 185/200\n",
            "781/781 [==============================] - 18s 24ms/step - loss: 0.3106 - accuracy: 0.8957 - val_loss: 0.3428 - val_accuracy: 0.8882\n",
            "Epoch 186/200\n",
            "781/781 [==============================] - 20s 25ms/step - loss: 0.3170 - accuracy: 0.8908 - val_loss: 0.3543 - val_accuracy: 0.8871\n",
            "Epoch 187/200\n",
            "781/781 [==============================] - 18s 24ms/step - loss: 0.3171 - accuracy: 0.8946 - val_loss: 0.3678 - val_accuracy: 0.8851\n",
            "Epoch 188/200\n",
            "781/781 [==============================] - 18s 23ms/step - loss: 0.3098 - accuracy: 0.8963 - val_loss: 0.3417 - val_accuracy: 0.8899\n",
            "Epoch 189/200\n",
            "781/781 [==============================] - 20s 25ms/step - loss: 0.3125 - accuracy: 0.8955 - val_loss: 0.3649 - val_accuracy: 0.8821\n",
            "Epoch 190/200\n",
            "781/781 [==============================] - 19s 24ms/step - loss: 0.3149 - accuracy: 0.8941 - val_loss: 0.3132 - val_accuracy: 0.8978\n",
            "Epoch 191/200\n",
            "781/781 [==============================] - 20s 26ms/step - loss: 0.3129 - accuracy: 0.8952 - val_loss: 0.3747 - val_accuracy: 0.8795\n",
            "Epoch 192/200\n",
            "781/781 [==============================] - 18s 23ms/step - loss: 0.3070 - accuracy: 0.8953 - val_loss: 0.3398 - val_accuracy: 0.8913\n",
            "Epoch 193/200\n",
            "781/781 [==============================] - 19s 24ms/step - loss: 0.3035 - accuracy: 0.8971 - val_loss: 0.3602 - val_accuracy: 0.8843\n",
            "Epoch 194/200\n",
            "781/781 [==============================] - 20s 25ms/step - loss: 0.3093 - accuracy: 0.8945 - val_loss: 0.3378 - val_accuracy: 0.8910\n",
            "Epoch 195/200\n",
            "781/781 [==============================] - 20s 25ms/step - loss: 0.3207 - accuracy: 0.8913 - val_loss: 0.3281 - val_accuracy: 0.8912\n",
            "Epoch 196/200\n",
            "781/781 [==============================] - 20s 25ms/step - loss: 0.3039 - accuracy: 0.8991 - val_loss: 0.3393 - val_accuracy: 0.8908\n",
            "Epoch 197/200\n",
            "781/781 [==============================] - 19s 24ms/step - loss: 0.3085 - accuracy: 0.8970 - val_loss: 0.3571 - val_accuracy: 0.8858\n",
            "Epoch 198/200\n",
            "781/781 [==============================] - 20s 25ms/step - loss: 0.3080 - accuracy: 0.8969 - val_loss: 0.3615 - val_accuracy: 0.8847\n",
            "Epoch 199/200\n",
            "781/781 [==============================] - 18s 24ms/step - loss: 0.3091 - accuracy: 0.8969 - val_loss: 0.3222 - val_accuracy: 0.8934\n",
            "Epoch 200/200\n",
            "781/781 [==============================] - 20s 25ms/step - loss: 0.3087 - accuracy: 0.8960 - val_loss: 0.3142 - val_accuracy: 0.8970\n"
          ]
        }
      ]
    },
    {
      "cell_type": "markdown",
      "source": [
        "acuracia de 89,70%"
      ],
      "metadata": {
        "id": "NBdPocDYrGDy"
      }
    }
  ]
}